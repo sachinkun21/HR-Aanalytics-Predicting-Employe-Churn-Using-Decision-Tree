{
  "nbformat": 4,
  "nbformat_minor": 0,
  "metadata": {
    "colab": {
      "name": "HR Analytics.ipynb",
      "provenance": [],
      "collapsed_sections": [],
      "include_colab_link": true
    },
    "kernelspec": {
      "name": "python3",
      "display_name": "Python 3"
    }
  },
  "cells": [
    {
      "cell_type": "markdown",
      "metadata": {
        "id": "view-in-github",
        "colab_type": "text"
      },
      "source": [
        "<a href=\"https://colab.research.google.com/github/sachinkun21/HR-Analytics-Predicting-Employe-Churn-Using-Decision-Tree/blob/master/HR_Analytics.ipynb\" target=\"_parent\"><img src=\"https://colab.research.google.com/assets/colab-badge.svg\" alt=\"Open In Colab\"/></a>"
      ]
    },
    {
      "cell_type": "markdown",
      "metadata": {
        "id": "M1-n1_jnHyPn",
        "colab_type": "text"
      },
      "source": [
        "## Summary\n",
        "1. Domain Introduction\n",
        "2. Problem Statement\n",
        "3. Data Description\n",
        "4. Target Variable\n",
        "5. Reading the data\n",
        "6. Inspecting the data\n",
        "7. Data Manipulation\n",
        " - Imputing the missing values\n",
        " - Feature Engineering\n",
        " - Encoding categorical variable\n",
        " \n",
        "8. Exploratory Data Analysis(EDA)\n",
        " -  Univariate Analysis\n",
        " -  Bi-Variate Analysis\n",
        "\n",
        "9. Data Preprocessing\n",
        "  - Normalizing features\n",
        "  - Train/val/Test split\n",
        "  \n",
        "10. Model Building\n",
        "  - Decision Tree: Advantages and Algorithm\n",
        "  - How decision Tree works\n",
        "  - Baseline Decision Tree Model\n",
        "  - Evaluation of Baseline Model\n",
        "  - Exporting the Model to Decision Tree Graph\n",
        "\n",
        "11. Hyper Parameter of Decision tree:\n",
        "  - Homogeneity Measure\n",
        "  - Min_samples_leaf\n",
        "  - min_sample_split\n",
        "  - max_depth\n",
        "  - class_weight\n",
        "12. Evaluation Metrics.\n",
        "13. Model Performance and Cross Validation\n",
        "14. Tuning Hyper Parameters using GridSearchCV\n",
        "15. Feature Selection\n",
        "16. Final Model:\n",
        " - Creating and Evaluating Model with a subset of Important Features\n",
        "17. Conclusion"
      ]
    },
    {
      "cell_type": "markdown",
      "metadata": {
        "id": "mwG_0Wyk9uxl",
        "colab_type": "text"
      },
      "source": [
        "## 1. Domain Introduction: \n",
        "#### What is HR analytics?\n",
        "Human Resource analytics (HR Analytics) is defined as the area in the field of analytics that deals with people analysis and applying analytical process to the human capital within the organization to improve employee performance and improving employee retention.\n",
        "- It Allows for data driven decision-making in all dimensions related to Employee Management. \n",
        "- This DataTale will give you a solid understanding of dealing with employee data and developing a predictive model to analyze employee turnover.\n",
        "\n",
        "\n",
        "\n",
        "#### Problems in HR Department:\n",
        "- Hiring and Assessment\n",
        "- Retention\n",
        "- Performance Evaluation\n",
        "- Learning and developments\n",
        "- Collaboration/Team Composition\n",
        "- Others(Abseenteism/Attrition)\n",
        "\n",
        "#### Employee Turnover\n",
        "- It's a process related to employees leaving the company\n",
        "- Also known as employee Attrition or Employee Churn\n",
        "- If not dealt with properly, Results in High Loss to organization.\n",
        "- Having predicted this, we can create strategy related to company's hiring and Retention policies"
      ]
    },
    {
      "cell_type": "markdown",
      "metadata": {
        "id": "aRwPr0ziKDOH",
        "colab_type": "text"
      },
      "source": [
        "## 2. Problem Statement:\n",
        "#### In this DataTale, we will concentrate on Employee Turnover preduction which is related to Hiring/Assessing and Retention.\n",
        "#### The main focus areas in this Tale will be:\n",
        "- Understanding Applications of data science in the HR Department.\n",
        "- The intuition behind Decision Trees, i,e How they work and visualization of Decision Paths.\n",
        "- The concept of Purity/Homogeneity and Measures of Homogeneity such as Gini Index and Entropy in order to split the tree.\n",
        "- Explaining the Decision Tree hyper Parameters such as Max_Depth, Min_Node, min_samples_split, min_sample_node etc and their impact on predictions.\n",
        "- Picking up the right Evaluation metric to decide the final model based on different business Objectives.\n",
        "\n",
        "\n",
        "#### Advantages of prediction Turnover beforehand:\n",
        "- We can identify good workers and change the strategy in order to Retain them\n",
        "- We can also start the hiring process of new employees on time"
      ]
    },
    {
      "cell_type": "markdown",
      "metadata": {
        "id": "ftWQzbSJBxU2",
        "colab_type": "text"
      },
      "source": [
        "#### Goals of this Analysis-\n",
        "- We will try to predict Employee Turnover\n",
        "- We will also try to understand the most important feature impacting them\n",
        "- Thus adding value to organizations by providing the information required to make the best decisions about Employee Management\n",
        "\n",
        "\n",
        "#### Flow of this Analysis:\n",
        "- Describing and Manipulating the Data\n",
        "- Predicting Employee Turnover\n",
        "- Evaluating and Tuning Predictions\n",
        "- Selecting Final Model"
      ]
    },
    {
      "cell_type": "markdown",
      "metadata": {
        "id": "W4olF33PK9Vs",
        "colab_type": "text"
      },
      "source": [
        "\n",
        "\n",
        "## 3. Data Description:\n",
        "We have open Source Dataset replicating Data of Employees of an Indian Firm.\n",
        "The Feature Description of each feature is given Below:\n",
        "- **EmpID**: EmployeeID of the employee in his organisation.\n",
        "- **Satisfaction**: Job Satisfaction score calculated by averaging the ratings given by employee in Organisation's last year's annual survey.\n",
        "- **Evaluation**: Evaluated score calculated by averaging the ratings given by Manager to Employee in last year's Annual Appraisal Meetings.\n",
        "- **Number_of_Project**: Total number of Projects employee has worked on, in current organisation since joining.\n",
        "- **Average_Monthly_Hours**: Average hours per month employee has spent in Office in last fiscal year.\n",
        "- **Time_spent_company**: Number of years the employee has been part of the Organisation.\n",
        "- **Work_accident**:Count of work related accidents employee has been part of.\n",
        "- **Promotion**: Number of times employee has been promoted since joining the Organisation\n",
        "- **Department**: Department of Employee.\n",
        "- **Salary_INR**: Salary of the Employee.\n",
        "- **Churn**: Whether the employee left the Company or Not. value 1 indicating he left the company"
      ]
    },
    {
      "cell_type": "markdown",
      "metadata": {
        "id": "ZAs-kKmcN1bA",
        "colab_type": "text"
      },
      "source": [
        "## 4. Target Variable\n",
        "The goal is to predict whether or not a particular Employee is likely to leave the Organisation. \n",
        "- This is represented by the Churn column in the dataset. Churn = 1 means the Employee left the Organisation, \n",
        "- wherease Churn = 0 implies Employee is working in organisation."
      ]
    },
    {
      "cell_type": "markdown",
      "metadata": {
        "id": "8n9FcuHu-Bov",
        "colab_type": "text"
      },
      "source": [
        "## 5. Reading the Dataset\n",
        "#### Loading the Dataset and Libaries"
      ]
    },
    {
      "cell_type": "code",
      "metadata": {
        "id": "eFQYh3Z9GMJE",
        "colab_type": "code",
        "outputId": "54244f01-b2ae-4b4c-ec57-9375c0e491b5",
        "colab": {
          "base_uri": "https://localhost:8080/",
          "height": 34
        }
      },
      "source": [
        "import os\n",
        "\n",
        "\n",
        "# Mounting Google drive to read Data\n",
        "from google.colab import drive\n",
        "drive.mount('/content/drive')"
      ],
      "execution_count": 52,
      "outputs": [
        {
          "output_type": "stream",
          "text": [
            "Drive already mounted at /content/drive; to attempt to forcibly remount, call drive.mount(\"/content/drive\", force_remount=True).\n"
          ],
          "name": "stdout"
        }
      ]
    },
    {
      "cell_type": "code",
      "metadata": {
        "id": "vj8VuqX_eOWc",
        "colab_type": "code",
        "outputId": "6bb4596e-4900-4637-fb64-27357c66aacb",
        "colab": {
          "base_uri": "https://localhost:8080/",
          "height": 34
        }
      },
      "source": [
        "ls /content/drive/'My Drive'/DataScience/"
      ],
      "execution_count": 53,
      "outputs": [
        {
          "output_type": "stream",
          "text": [
            "Employee.csv  Employee_HR.csv  transaction.csv\n"
          ],
          "name": "stdout"
        }
      ]
    },
    {
      "cell_type": "code",
      "metadata": {
        "id": "ByoKInaG93-a",
        "colab_type": "code",
        "outputId": "59fd8ccd-736d-4e98-95dd-58e49339ae91",
        "colab": {
          "base_uri": "https://localhost:8080/",
          "height": 204
        }
      },
      "source": [
        "# linear algebra\n",
        "import numpy as np\n",
        "# data processing\n",
        "import pandas as pd\n",
        "\n",
        "# data visualization\n",
        "import seaborn as sns\n",
        "%matplotlib inline\n",
        "from matplotlib import pyplot as plt\n",
        "from matplotlib import style\n",
        "\n",
        "# Reading \"turnover.csv\" file and saving it in a DataFrame\n",
        "df = pd.read_csv(\"/content/drive/My Drive/DataScience/Employee_HR.csv\")\n",
        "\n",
        "# printing top 5 rows of DataFrame\n",
        "df.head()"
      ],
      "execution_count": 54,
      "outputs": [
        {
          "output_type": "execute_result",
          "data": {
            "text/html": [
              "<div>\n",
              "<style scoped>\n",
              "    .dataframe tbody tr th:only-of-type {\n",
              "        vertical-align: middle;\n",
              "    }\n",
              "\n",
              "    .dataframe tbody tr th {\n",
              "        vertical-align: top;\n",
              "    }\n",
              "\n",
              "    .dataframe thead th {\n",
              "        text-align: right;\n",
              "    }\n",
              "</style>\n",
              "<table border=\"1\" class=\"dataframe\">\n",
              "  <thead>\n",
              "    <tr style=\"text-align: right;\">\n",
              "      <th></th>\n",
              "      <th>EmpId</th>\n",
              "      <th>Satisfaction</th>\n",
              "      <th>Evaluation</th>\n",
              "      <th>number_of_projects</th>\n",
              "      <th>average_montly_hours</th>\n",
              "      <th>time_spent_company</th>\n",
              "      <th>work_accident</th>\n",
              "      <th>Promotion</th>\n",
              "      <th>Department</th>\n",
              "      <th>Salary_INR</th>\n",
              "      <th>Churn</th>\n",
              "    </tr>\n",
              "  </thead>\n",
              "  <tbody>\n",
              "    <tr>\n",
              "      <th>0</th>\n",
              "      <td>780152</td>\n",
              "      <td>3.8</td>\n",
              "      <td>5.3</td>\n",
              "      <td>2</td>\n",
              "      <td>157</td>\n",
              "      <td>3</td>\n",
              "      <td>0</td>\n",
              "      <td>0</td>\n",
              "      <td>sales</td>\n",
              "      <td>11053</td>\n",
              "      <td>1</td>\n",
              "    </tr>\n",
              "    <tr>\n",
              "      <th>1</th>\n",
              "      <td>780153</td>\n",
              "      <td>8.0</td>\n",
              "      <td>8.6</td>\n",
              "      <td>5</td>\n",
              "      <td>262</td>\n",
              "      <td>6</td>\n",
              "      <td>0</td>\n",
              "      <td>0</td>\n",
              "      <td>sales</td>\n",
              "      <td>54063</td>\n",
              "      <td>1</td>\n",
              "    </tr>\n",
              "    <tr>\n",
              "      <th>2</th>\n",
              "      <td>780154</td>\n",
              "      <td>1.1</td>\n",
              "      <td>8.8</td>\n",
              "      <td>7</td>\n",
              "      <td>272</td>\n",
              "      <td>4</td>\n",
              "      <td>0</td>\n",
              "      <td>0</td>\n",
              "      <td>sales</td>\n",
              "      <td>61300</td>\n",
              "      <td>1</td>\n",
              "    </tr>\n",
              "    <tr>\n",
              "      <th>3</th>\n",
              "      <td>780155</td>\n",
              "      <td>7.2</td>\n",
              "      <td>8.7</td>\n",
              "      <td>5</td>\n",
              "      <td>223</td>\n",
              "      <td>5</td>\n",
              "      <td>0</td>\n",
              "      <td>0</td>\n",
              "      <td>sales</td>\n",
              "      <td>20647</td>\n",
              "      <td>1</td>\n",
              "    </tr>\n",
              "    <tr>\n",
              "      <th>4</th>\n",
              "      <td>780156</td>\n",
              "      <td>3.7</td>\n",
              "      <td>5.2</td>\n",
              "      <td>2</td>\n",
              "      <td>159</td>\n",
              "      <td>3</td>\n",
              "      <td>0</td>\n",
              "      <td>0</td>\n",
              "      <td>sales</td>\n",
              "      <td>17808</td>\n",
              "      <td>1</td>\n",
              "    </tr>\n",
              "  </tbody>\n",
              "</table>\n",
              "</div>"
            ],
            "text/plain": [
              "    EmpId  Satisfaction  Evaluation  ...  Department  Salary_INR  Churn\n",
              "0  780152           3.8         5.3  ...       sales       11053      1\n",
              "1  780153           8.0         8.6  ...       sales       54063      1\n",
              "2  780154           1.1         8.8  ...       sales       61300      1\n",
              "3  780155           7.2         8.7  ...       sales       20647      1\n",
              "4  780156           3.7         5.2  ...       sales       17808      1\n",
              "\n",
              "[5 rows x 11 columns]"
            ]
          },
          "metadata": {
            "tags": []
          },
          "execution_count": 54
        }
      ]
    },
    {
      "cell_type": "markdown",
      "metadata": {
        "id": "XHS1NFpgC34G",
        "colab_type": "text"
      },
      "source": [
        "## 6. Inspecting The Data:\n",
        "#### Descriptive Analysis\n",
        "- In this section we will explore the HR dataset and analyze the structure. \n",
        "- We will describe and visualize some of the key variables\n",
        "-  transform and manipulate the dataset to make it ready for analytics\n"
      ]
    },
    {
      "cell_type": "code",
      "metadata": {
        "id": "xVYgKzBGD83z",
        "colab_type": "code",
        "outputId": "965f2b43-bc47-4c95-e202-dbcf07a31734",
        "colab": {
          "base_uri": "https://localhost:8080/",
          "height": 289
        }
      },
      "source": [
        "#Let's list the datatype and other infos for each parameter\n",
        "df.info()"
      ],
      "execution_count": 55,
      "outputs": [
        {
          "output_type": "stream",
          "text": [
            "<class 'pandas.core.frame.DataFrame'>\n",
            "RangeIndex: 14999 entries, 0 to 14998\n",
            "Data columns (total 11 columns):\n",
            "EmpId                   14999 non-null int64\n",
            "Satisfaction            14999 non-null float64\n",
            "Evaluation              14999 non-null float64\n",
            "number_of_projects      14999 non-null int64\n",
            "average_montly_hours    14999 non-null int64\n",
            "time_spent_company      14999 non-null int64\n",
            "work_accident           14999 non-null int64\n",
            "Promotion               14999 non-null int64\n",
            "Department              14999 non-null object\n",
            "Salary_INR              14999 non-null int64\n",
            "Churn                   14999 non-null int64\n",
            "dtypes: float64(2), int64(8), object(1)\n",
            "memory usage: 1.3+ MB\n"
          ],
          "name": "stdout"
        }
      ]
    },
    {
      "cell_type": "markdown",
      "metadata": {
        "id": "xG8ds_9lGphv",
        "colab_type": "text"
      },
      "source": [
        "- There are 11 parameters in our Dataset\n",
        "- Also there are 15000 datapoints\n",
        "- 1 of the variables is of Object type/Categorical\n",
        "- 10 of the variables are Numeric"
      ]
    },
    {
      "cell_type": "markdown",
      "metadata": {
        "id": "VDJxuzZMNaWq",
        "colab_type": "text"
      },
      "source": [
        "Let's Describe the properties of Numerical Values"
      ]
    },
    {
      "cell_type": "code",
      "metadata": {
        "id": "6x_P4t3lFyyU",
        "colab_type": "code",
        "outputId": "ce70fbb4-2ee3-4162-e10c-ed1d4740b487",
        "colab": {
          "base_uri": "https://localhost:8080/",
          "height": 317
        }
      },
      "source": [
        "df.describe()"
      ],
      "execution_count": 56,
      "outputs": [
        {
          "output_type": "execute_result",
          "data": {
            "text/html": [
              "<div>\n",
              "<style scoped>\n",
              "    .dataframe tbody tr th:only-of-type {\n",
              "        vertical-align: middle;\n",
              "    }\n",
              "\n",
              "    .dataframe tbody tr th {\n",
              "        vertical-align: top;\n",
              "    }\n",
              "\n",
              "    .dataframe thead th {\n",
              "        text-align: right;\n",
              "    }\n",
              "</style>\n",
              "<table border=\"1\" class=\"dataframe\">\n",
              "  <thead>\n",
              "    <tr style=\"text-align: right;\">\n",
              "      <th></th>\n",
              "      <th>EmpId</th>\n",
              "      <th>Satisfaction</th>\n",
              "      <th>Evaluation</th>\n",
              "      <th>number_of_projects</th>\n",
              "      <th>average_montly_hours</th>\n",
              "      <th>time_spent_company</th>\n",
              "      <th>work_accident</th>\n",
              "      <th>Promotion</th>\n",
              "      <th>Salary_INR</th>\n",
              "      <th>Churn</th>\n",
              "    </tr>\n",
              "  </thead>\n",
              "  <tbody>\n",
              "    <tr>\n",
              "      <th>count</th>\n",
              "      <td>14999.000000</td>\n",
              "      <td>14999.000000</td>\n",
              "      <td>14999.000000</td>\n",
              "      <td>14999.000000</td>\n",
              "      <td>14999.000000</td>\n",
              "      <td>14999.000000</td>\n",
              "      <td>14999.000000</td>\n",
              "      <td>14999.000000</td>\n",
              "      <td>14999.000000</td>\n",
              "      <td>14999.000000</td>\n",
              "    </tr>\n",
              "    <tr>\n",
              "      <th>mean</th>\n",
              "      <td>787651.000000</td>\n",
              "      <td>6.128335</td>\n",
              "      <td>7.161017</td>\n",
              "      <td>3.803054</td>\n",
              "      <td>201.050337</td>\n",
              "      <td>3.498233</td>\n",
              "      <td>0.144610</td>\n",
              "      <td>0.021268</td>\n",
              "      <td>62742.699913</td>\n",
              "      <td>0.238083</td>\n",
              "    </tr>\n",
              "    <tr>\n",
              "      <th>std</th>\n",
              "      <td>4329.982679</td>\n",
              "      <td>2.486307</td>\n",
              "      <td>1.711691</td>\n",
              "      <td>1.232592</td>\n",
              "      <td>49.943099</td>\n",
              "      <td>1.460136</td>\n",
              "      <td>0.351719</td>\n",
              "      <td>0.144281</td>\n",
              "      <td>66486.116149</td>\n",
              "      <td>0.425924</td>\n",
              "    </tr>\n",
              "    <tr>\n",
              "      <th>min</th>\n",
              "      <td>780152.000000</td>\n",
              "      <td>0.900000</td>\n",
              "      <td>3.600000</td>\n",
              "      <td>2.000000</td>\n",
              "      <td>96.000000</td>\n",
              "      <td>2.000000</td>\n",
              "      <td>0.000000</td>\n",
              "      <td>0.000000</td>\n",
              "      <td>10000.000000</td>\n",
              "      <td>0.000000</td>\n",
              "    </tr>\n",
              "    <tr>\n",
              "      <th>25%</th>\n",
              "      <td>783901.500000</td>\n",
              "      <td>4.400000</td>\n",
              "      <td>5.600000</td>\n",
              "      <td>3.000000</td>\n",
              "      <td>156.000000</td>\n",
              "      <td>3.000000</td>\n",
              "      <td>0.000000</td>\n",
              "      <td>0.000000</td>\n",
              "      <td>25248.000000</td>\n",
              "      <td>0.000000</td>\n",
              "    </tr>\n",
              "    <tr>\n",
              "      <th>50%</th>\n",
              "      <td>787651.000000</td>\n",
              "      <td>6.400000</td>\n",
              "      <td>7.200000</td>\n",
              "      <td>4.000000</td>\n",
              "      <td>200.000000</td>\n",
              "      <td>3.000000</td>\n",
              "      <td>0.000000</td>\n",
              "      <td>0.000000</td>\n",
              "      <td>41721.000000</td>\n",
              "      <td>0.000000</td>\n",
              "    </tr>\n",
              "    <tr>\n",
              "      <th>75%</th>\n",
              "      <td>791400.500000</td>\n",
              "      <td>8.200000</td>\n",
              "      <td>8.700000</td>\n",
              "      <td>5.000000</td>\n",
              "      <td>245.000000</td>\n",
              "      <td>4.000000</td>\n",
              "      <td>0.000000</td>\n",
              "      <td>0.000000</td>\n",
              "      <td>76354.000000</td>\n",
              "      <td>0.000000</td>\n",
              "    </tr>\n",
              "    <tr>\n",
              "      <th>max</th>\n",
              "      <td>795150.000000</td>\n",
              "      <td>10.000000</td>\n",
              "      <td>10.000000</td>\n",
              "      <td>7.000000</td>\n",
              "      <td>310.000000</td>\n",
              "      <td>10.000000</td>\n",
              "      <td>1.000000</td>\n",
              "      <td>1.000000</td>\n",
              "      <td>399930.000000</td>\n",
              "      <td>1.000000</td>\n",
              "    </tr>\n",
              "  </tbody>\n",
              "</table>\n",
              "</div>"
            ],
            "text/plain": [
              "               EmpId  Satisfaction  ...     Salary_INR         Churn\n",
              "count   14999.000000  14999.000000  ...   14999.000000  14999.000000\n",
              "mean   787651.000000      6.128335  ...   62742.699913      0.238083\n",
              "std      4329.982679      2.486307  ...   66486.116149      0.425924\n",
              "min    780152.000000      0.900000  ...   10000.000000      0.000000\n",
              "25%    783901.500000      4.400000  ...   25248.000000      0.000000\n",
              "50%    787651.000000      6.400000  ...   41721.000000      0.000000\n",
              "75%    791400.500000      8.200000  ...   76354.000000      0.000000\n",
              "max    795150.000000     10.000000  ...  399930.000000      1.000000\n",
              "\n",
              "[8 rows x 10 columns]"
            ]
          },
          "metadata": {
            "tags": []
          },
          "execution_count": 56
        }
      ]
    },
    {
      "cell_type": "markdown",
      "metadata": {
        "id": "jPrVfYZtOIK2",
        "colab_type": "text"
      },
      "source": [
        "#### Note: The column  department needs to be converted into numerical categorical variables."
      ]
    },
    {
      "cell_type": "markdown",
      "metadata": {
        "id": "7gkhWaEmRRm6",
        "colab_type": "text"
      },
      "source": [
        "## 7. Data manipulation \n",
        "\n",
        "#### As we know column EmpID will not contribute to our Prediction, so let's Drop this column first"
      ]
    },
    {
      "cell_type": "code",
      "metadata": {
        "id": "GX979ji39Hwj",
        "colab_type": "code",
        "colab": {}
      },
      "source": [
        "df = df.drop('EmpId', axis = 1)"
      ],
      "execution_count": 0,
      "outputs": []
    },
    {
      "cell_type": "markdown",
      "metadata": {
        "id": "Zem7l5ttQRwR",
        "colab_type": "text"
      },
      "source": [
        "#### Missing Value treatment\n"
      ]
    },
    {
      "cell_type": "code",
      "metadata": {
        "id": "GLLNROx9hm01",
        "colab_type": "code",
        "outputId": "3701846c-a4f1-450a-99ea-793699639053",
        "colab": {
          "base_uri": "https://localhost:8080/",
          "height": 204
        }
      },
      "source": [
        "# Calculating percentage of Missing Values in DataFrame\n",
        "df.isnull().sum()/len(df)*100"
      ],
      "execution_count": 58,
      "outputs": [
        {
          "output_type": "execute_result",
          "data": {
            "text/plain": [
              "Satisfaction            0.0\n",
              "Evaluation              0.0\n",
              "number_of_projects      0.0\n",
              "average_montly_hours    0.0\n",
              "time_spent_company      0.0\n",
              "work_accident           0.0\n",
              "Promotion               0.0\n",
              "Department              0.0\n",
              "Salary_INR              0.0\n",
              "Churn                   0.0\n",
              "dtype: float64"
            ]
          },
          "metadata": {
            "tags": []
          },
          "execution_count": 58
        }
      ]
    },
    {
      "cell_type": "markdown",
      "metadata": {
        "id": "LVjmqsaYh4Xc",
        "colab_type": "text"
      },
      "source": [
        "As There are No missing Values, we will move to next section."
      ]
    },
    {
      "cell_type": "markdown",
      "metadata": {
        "id": "a6-7IJkTjCWR",
        "colab_type": "text"
      },
      "source": [
        "### Feature Engineering:\n",
        "Now let us convert Salary Feature into 3 Distinct Categories representing:\n",
        "- Salary < 40000 as `Low`\n",
        "- Salary >= 40000 and less than 100000 as `Medium`\n",
        "- Salary >= 100000 as `High`\n",
        "\n",
        "This process is known as **`Binning of Variable`**\n",
        "\n",
        "#### Why are we Performing Binning?\n",
        "- Working with a few variables is much more easier than wroking with a large Number of Variables.\n",
        "- Thus binning results in Huge performace improvement of Model due less number of Calculations\n",
        "- Binning may improve accuracy of the predictive models by reducing the noise or non-linearity as well. \n",
        "- It also helps in Creating better visualisations due to limited number of Categories as you will see in upcoming sections.\n",
        "- Finally, binning allows easy identification of outliers, invalid and missing values of numerical variables.\n"
      ]
    },
    {
      "cell_type": "code",
      "metadata": {
        "id": "scTypNcJjHPb",
        "colab_type": "code",
        "outputId": "2573c922-c595-4ca1-8ee8-c19a3cce44be",
        "colab": {
          "base_uri": "https://localhost:8080/",
          "height": 34
        }
      },
      "source": [
        "# Function to Salary into 3 categories Low,Medium and High Respectively\n",
        "\n",
        "def Salary_Cat(Salary):\n",
        "  if Salary<40000:\n",
        "    return \"Low\"\n",
        "  elif Salary>=40000 and Salary<100000:\n",
        "    return \"Medium\"\n",
        "  elif Salary >=100000:\n",
        "    return \"High\"\n",
        "  else:\n",
        "    return 0\n",
        "Salary_Cat(40000)"
      ],
      "execution_count": 59,
      "outputs": [
        {
          "output_type": "execute_result",
          "data": {
            "text/plain": [
              "'Medium'"
            ]
          },
          "metadata": {
            "tags": []
          },
          "execution_count": 59
        }
      ]
    },
    {
      "cell_type": "code",
      "metadata": {
        "id": "350sXT4QjaK0",
        "colab_type": "code",
        "outputId": "0ae96399-88ce-47f3-ab1a-694522358df5",
        "colab": {
          "base_uri": "https://localhost:8080/",
          "height": 51
        }
      },
      "source": [
        "df['Salary']=df['Salary_INR'].map(Salary_Cat)\n",
        "\n",
        "#Dropping the Numerical Salary Column\n",
        "df = df.drop('Salary_INR', axis = 1)\n",
        "\n",
        "\n",
        "# Printing the unique values of the \"salary\" column\n",
        "print(\"Unique values of the salary:- \")\n",
        "print(df.Salary.unique())"
      ],
      "execution_count": 60,
      "outputs": [
        {
          "output_type": "stream",
          "text": [
            "Unique values of the salary:- \n",
            "['Low' 'Medium' 'High']\n"
          ],
          "name": "stdout"
        }
      ]
    },
    {
      "cell_type": "markdown",
      "metadata": {
        "id": "JrLUwfN45F8T",
        "colab_type": "text"
      },
      "source": [
        "- The Values of Salary column i.e **['Low' , 'Medium' , 'High']** represents **Ordered categorical variables**."
      ]
    },
    {
      "cell_type": "code",
      "metadata": {
        "id": "hzEZnoCy55Oe",
        "colab_type": "code",
        "outputId": "e47569b0-f937-4589-9e8c-d134af64fb2b",
        "colab": {
          "base_uri": "https://localhost:8080/",
          "height": 68
        }
      },
      "source": [
        "# Printing the unique values of the \"department\" column\n",
        "print(\"Unique values of the department:-\")\n",
        "print(df.Department.unique())"
      ],
      "execution_count": 61,
      "outputs": [
        {
          "output_type": "stream",
          "text": [
            "Unique values of the department:-\n",
            "['sales' 'accounting' 'hr' 'technical' 'support' 'management' 'IT'\n",
            " 'product_mng' 'marketing' 'RandD']\n"
          ],
          "name": "stdout"
        }
      ]
    },
    {
      "cell_type": "markdown",
      "metadata": {
        "id": "LcrcNhUO6CRu",
        "colab_type": "text"
      },
      "source": [
        "- while **['sales', 'accounting' , 'hr' , 'technical' , 'support' , 'management' 'IT' , 'product_mng' , 'marketing' , 'RandD']** i.e Department values are **UnOrdered**."
      ]
    },
    {
      "cell_type": "markdown",
      "metadata": {
        "id": "YE7ZuAfMYgje",
        "colab_type": "text"
      },
      "source": [
        "#### Transforming categorical variables\n",
        "\n",
        "\n",
        "Categorical variables are variables that receive a limited number of values that describe a category. They can be of two types:\n",
        "\n",
        "- Ordinal – variables with two or more categories that can be ranked or ordered (e.g. “low”, “medium”, “high”)\n",
        "- Nominal – variables with two or more categories that do not have an intrinsic order (e.g. “men”, “women”)\n",
        "\n",
        "As you already know that the Numerical variables can be directly used for performing mathematical calculation  and statistical inference while the Object type require Transformation into categorical types to work on.\n",
        "\n",
        "Let's take a look at data stored in the dataset to understand more about it.\n"
      ]
    },
    {
      "cell_type": "markdown",
      "metadata": {
        "id": "9LDVyW9X4h9s",
        "colab_type": "text"
      },
      "source": [
        "#### Ordinal Variable\n",
        "We will encode categories of the salary variable, which is ordinal based on the values:\n",
        "- We first have to assign salary column as categorical\n",
        "- Then we will  specify the correct order of categories\n",
        "- finally, we will encode each category with a numeric value corresponding to its specific position in the order"
      ]
    },
    {
      "cell_type": "code",
      "metadata": {
        "id": "i8eDCB61PQ2N",
        "colab_type": "code",
        "outputId": "4ad47842-d493-4206-c520-bd9a17b13bfb",
        "colab": {
          "base_uri": "https://localhost:8080/",
          "height": 204
        }
      },
      "source": [
        "# Changing the type of the \"salary\" column to categorical\n",
        "df.Salary = df.Salary.astype('category')\n",
        "\n",
        "# Providing the correct order of categories\n",
        "df.Salary = df.Salary.cat.reorder_categories(['Low', 'Medium','High'])\n",
        "\n",
        "# Encoding categories with integer values\n",
        "df['Salary_cat'] = df.Salary.cat.codes\n",
        "\n",
        "# Printing the Numerical ordering corresponing to each category\n",
        "df[['Salary','Salary_cat']].head()"
      ],
      "execution_count": 62,
      "outputs": [
        {
          "output_type": "execute_result",
          "data": {
            "text/html": [
              "<div>\n",
              "<style scoped>\n",
              "    .dataframe tbody tr th:only-of-type {\n",
              "        vertical-align: middle;\n",
              "    }\n",
              "\n",
              "    .dataframe tbody tr th {\n",
              "        vertical-align: top;\n",
              "    }\n",
              "\n",
              "    .dataframe thead th {\n",
              "        text-align: right;\n",
              "    }\n",
              "</style>\n",
              "<table border=\"1\" class=\"dataframe\">\n",
              "  <thead>\n",
              "    <tr style=\"text-align: right;\">\n",
              "      <th></th>\n",
              "      <th>Salary</th>\n",
              "      <th>Salary_cat</th>\n",
              "    </tr>\n",
              "  </thead>\n",
              "  <tbody>\n",
              "    <tr>\n",
              "      <th>0</th>\n",
              "      <td>Low</td>\n",
              "      <td>0</td>\n",
              "    </tr>\n",
              "    <tr>\n",
              "      <th>1</th>\n",
              "      <td>Medium</td>\n",
              "      <td>1</td>\n",
              "    </tr>\n",
              "    <tr>\n",
              "      <th>2</th>\n",
              "      <td>Medium</td>\n",
              "      <td>1</td>\n",
              "    </tr>\n",
              "    <tr>\n",
              "      <th>3</th>\n",
              "      <td>Low</td>\n",
              "      <td>0</td>\n",
              "    </tr>\n",
              "    <tr>\n",
              "      <th>4</th>\n",
              "      <td>Low</td>\n",
              "      <td>0</td>\n",
              "    </tr>\n",
              "  </tbody>\n",
              "</table>\n",
              "</div>"
            ],
            "text/plain": [
              "   Salary  Salary_cat\n",
              "0     Low           0\n",
              "1  Medium           1\n",
              "2  Medium           1\n",
              "3     Low           0\n",
              "4     Low           0"
            ]
          },
          "metadata": {
            "tags": []
          },
          "execution_count": 62
        }
      ]
    },
    {
      "cell_type": "markdown",
      "metadata": {
        "id": "3MTI47YOdP0f",
        "colab_type": "text"
      },
      "source": [
        "The same task as above can be accomplished using a mapper function as given below:"
      ]
    },
    {
      "cell_type": "code",
      "metadata": {
        "id": "a1zDjcrbdWAh",
        "colab_type": "code",
        "colab": {}
      },
      "source": [
        "# def map_salary(category):\n",
        "#   if category==\"Low\":\n",
        "#     return 0\n",
        "#   elif category==\"Medium\":\n",
        "#     return 1\n",
        "#   elif category==\"High\":\n",
        "#     return 2\n",
        "#   else:\n",
        "#     return \"NA\"\n",
        "\n",
        "# df['salary_cat_map'] = df['salary'].map(map_salary)\n",
        "# df['salary_cat_map'].head()\n"
      ],
      "execution_count": 0,
      "outputs": []
    },
    {
      "cell_type": "markdown",
      "metadata": {
        "id": "fQ4KAudMZdDM",
        "colab_type": "text"
      },
      "source": [
        "salary column is now encoded as an ordered category, and ready for our prediction algorithm.\n",
        "\n",
        "Let's deal with department column Next:"
      ]
    },
    {
      "cell_type": "markdown",
      "metadata": {
        "id": "LCZdXTmxY6wY",
        "colab_type": "text"
      },
      "source": [
        "#### Nominal Variable:\n",
        "- As we already know nominal variables have No Rank or Order, for example department column here.\n",
        "- Encoding approach won't be useful here\n",
        "- Thus in order to transform such type of variables, we will have to generate dummy variables\n",
        "- Dummy variable is a variable that can only get two values 0 or 1.\n",
        "- for example: We have 10 unique values in Department columns. So we will create 10 columns for each datapoint corresponding to the 10 departments.\n",
        "- Now if an employee is working in one of the departments, let's say accounting dept, we will have value 1 in accounting and rest of the nine columns as value 0.\n",
        "\n",
        "\n",
        "\n",
        "we will use pandas get_dummies() on the department column of the data to generate dummy variables and save them inside a new DataFrame called departments"
      ]
    },
    {
      "cell_type": "code",
      "metadata": {
        "id": "F5uZs75YWumj",
        "colab_type": "code",
        "outputId": "86fd1ca0-e1ba-4964-b79a-e3bc5b1930e4",
        "colab": {
          "base_uri": "https://localhost:8080/",
          "height": 153
        }
      },
      "source": [
        "# Getting dummy variables and saving them inside a new DataFrame\n",
        "Departments = pd.get_dummies(df.Department)\n",
        "\n",
        "# Taking quick look to the first 5 rows of departments dataframe\n",
        "print(Departments.head())"
      ],
      "execution_count": 63,
      "outputs": [
        {
          "output_type": "stream",
          "text": [
            "   IT  RandD  accounting  hr  ...  product_mng  sales  support  technical\n",
            "0   0      0           0   0  ...            0      1        0          0\n",
            "1   0      0           0   0  ...            0      1        0          0\n",
            "2   0      0           0   0  ...            0      1        0          0\n",
            "3   0      0           0   0  ...            0      1        0          0\n",
            "4   0      0           0   0  ...            0      1        0          0\n",
            "\n",
            "[5 rows x 10 columns]\n"
          ],
          "name": "stdout"
        }
      ]
    },
    {
      "cell_type": "markdown",
      "metadata": {
        "id": "YLJsW2ceazDf",
        "colab_type": "text"
      },
      "source": [
        "A dummy trap is a situation where different dummy variables convey the same information. \n",
        "\n",
        "In this case, if an employee is, say, from the accounting department (i.e. value in the accounting column is 1), then you're certain that s/he is not from any other department (values everywhere else are 0). Thus, you could actually learn about his/her department by looking at all the other departments.\n",
        "\n",
        "For that reason, whenever n dummies are created (in your case, 10), only n - 1 (in this case, 9) of them are enough, and the n-th column's information is already included.\n",
        "\n",
        "Therefore, we will drop one of the department dummies to avoid dummy trap, and \n",
        "also get rid of the old department column in original dataframe, then join df with departments dataframe."
      ]
    },
    {
      "cell_type": "code",
      "metadata": {
        "id": "SAAWyZZQXGeS",
        "colab_type": "code",
        "outputId": "d4d21f21-01a5-4585-8ae6-b6746532135b",
        "colab": {
          "base_uri": "https://localhost:8080/",
          "height": 224
        }
      },
      "source": [
        "# Dropping the \"accounting\" column to avoid \"dummy trap\"\n",
        "Departments = Departments.drop(\"accounting\", axis=1)\n",
        "\n",
        "# Dropping the old column \"department\" as you don't need it anymore        //Will Drop it later as we need it for visualization\n",
        "#data = data.drop(\"department\", axis=1)\n",
        "\n",
        "# Joining the new dataframe \"departments\" to your employee dataset: done\n",
        "df = df.join(Departments)\n",
        "\n",
        "# printing top 5 rows of dataframe again\n",
        "df.head()"
      ],
      "execution_count": 64,
      "outputs": [
        {
          "output_type": "execute_result",
          "data": {
            "text/html": [
              "<div>\n",
              "<style scoped>\n",
              "    .dataframe tbody tr th:only-of-type {\n",
              "        vertical-align: middle;\n",
              "    }\n",
              "\n",
              "    .dataframe tbody tr th {\n",
              "        vertical-align: top;\n",
              "    }\n",
              "\n",
              "    .dataframe thead th {\n",
              "        text-align: right;\n",
              "    }\n",
              "</style>\n",
              "<table border=\"1\" class=\"dataframe\">\n",
              "  <thead>\n",
              "    <tr style=\"text-align: right;\">\n",
              "      <th></th>\n",
              "      <th>Satisfaction</th>\n",
              "      <th>Evaluation</th>\n",
              "      <th>number_of_projects</th>\n",
              "      <th>average_montly_hours</th>\n",
              "      <th>time_spent_company</th>\n",
              "      <th>work_accident</th>\n",
              "      <th>Promotion</th>\n",
              "      <th>Department</th>\n",
              "      <th>Churn</th>\n",
              "      <th>Salary</th>\n",
              "      <th>Salary_cat</th>\n",
              "      <th>IT</th>\n",
              "      <th>RandD</th>\n",
              "      <th>hr</th>\n",
              "      <th>management</th>\n",
              "      <th>marketing</th>\n",
              "      <th>product_mng</th>\n",
              "      <th>sales</th>\n",
              "      <th>support</th>\n",
              "      <th>technical</th>\n",
              "    </tr>\n",
              "  </thead>\n",
              "  <tbody>\n",
              "    <tr>\n",
              "      <th>0</th>\n",
              "      <td>3.8</td>\n",
              "      <td>5.3</td>\n",
              "      <td>2</td>\n",
              "      <td>157</td>\n",
              "      <td>3</td>\n",
              "      <td>0</td>\n",
              "      <td>0</td>\n",
              "      <td>sales</td>\n",
              "      <td>1</td>\n",
              "      <td>Low</td>\n",
              "      <td>0</td>\n",
              "      <td>0</td>\n",
              "      <td>0</td>\n",
              "      <td>0</td>\n",
              "      <td>0</td>\n",
              "      <td>0</td>\n",
              "      <td>0</td>\n",
              "      <td>1</td>\n",
              "      <td>0</td>\n",
              "      <td>0</td>\n",
              "    </tr>\n",
              "    <tr>\n",
              "      <th>1</th>\n",
              "      <td>8.0</td>\n",
              "      <td>8.6</td>\n",
              "      <td>5</td>\n",
              "      <td>262</td>\n",
              "      <td>6</td>\n",
              "      <td>0</td>\n",
              "      <td>0</td>\n",
              "      <td>sales</td>\n",
              "      <td>1</td>\n",
              "      <td>Medium</td>\n",
              "      <td>1</td>\n",
              "      <td>0</td>\n",
              "      <td>0</td>\n",
              "      <td>0</td>\n",
              "      <td>0</td>\n",
              "      <td>0</td>\n",
              "      <td>0</td>\n",
              "      <td>1</td>\n",
              "      <td>0</td>\n",
              "      <td>0</td>\n",
              "    </tr>\n",
              "    <tr>\n",
              "      <th>2</th>\n",
              "      <td>1.1</td>\n",
              "      <td>8.8</td>\n",
              "      <td>7</td>\n",
              "      <td>272</td>\n",
              "      <td>4</td>\n",
              "      <td>0</td>\n",
              "      <td>0</td>\n",
              "      <td>sales</td>\n",
              "      <td>1</td>\n",
              "      <td>Medium</td>\n",
              "      <td>1</td>\n",
              "      <td>0</td>\n",
              "      <td>0</td>\n",
              "      <td>0</td>\n",
              "      <td>0</td>\n",
              "      <td>0</td>\n",
              "      <td>0</td>\n",
              "      <td>1</td>\n",
              "      <td>0</td>\n",
              "      <td>0</td>\n",
              "    </tr>\n",
              "    <tr>\n",
              "      <th>3</th>\n",
              "      <td>7.2</td>\n",
              "      <td>8.7</td>\n",
              "      <td>5</td>\n",
              "      <td>223</td>\n",
              "      <td>5</td>\n",
              "      <td>0</td>\n",
              "      <td>0</td>\n",
              "      <td>sales</td>\n",
              "      <td>1</td>\n",
              "      <td>Low</td>\n",
              "      <td>0</td>\n",
              "      <td>0</td>\n",
              "      <td>0</td>\n",
              "      <td>0</td>\n",
              "      <td>0</td>\n",
              "      <td>0</td>\n",
              "      <td>0</td>\n",
              "      <td>1</td>\n",
              "      <td>0</td>\n",
              "      <td>0</td>\n",
              "    </tr>\n",
              "    <tr>\n",
              "      <th>4</th>\n",
              "      <td>3.7</td>\n",
              "      <td>5.2</td>\n",
              "      <td>2</td>\n",
              "      <td>159</td>\n",
              "      <td>3</td>\n",
              "      <td>0</td>\n",
              "      <td>0</td>\n",
              "      <td>sales</td>\n",
              "      <td>1</td>\n",
              "      <td>Low</td>\n",
              "      <td>0</td>\n",
              "      <td>0</td>\n",
              "      <td>0</td>\n",
              "      <td>0</td>\n",
              "      <td>0</td>\n",
              "      <td>0</td>\n",
              "      <td>0</td>\n",
              "      <td>1</td>\n",
              "      <td>0</td>\n",
              "      <td>0</td>\n",
              "    </tr>\n",
              "  </tbody>\n",
              "</table>\n",
              "</div>"
            ],
            "text/plain": [
              "   Satisfaction  Evaluation  number_of_projects  ...  sales  support  technical\n",
              "0           3.8         5.3                   2  ...      1        0          0\n",
              "1           8.0         8.6                   5  ...      1        0          0\n",
              "2           1.1         8.8                   7  ...      1        0          0\n",
              "3           7.2         8.7                   5  ...      1        0          0\n",
              "4           3.7         5.2                   2  ...      1        0          0\n",
              "\n",
              "[5 rows x 20 columns]"
            ]
          },
          "metadata": {
            "tags": []
          },
          "execution_count": 64
        }
      ]
    },
    {
      "cell_type": "markdown",
      "metadata": {
        "id": "vOvJ4j4xuuNQ",
        "colab_type": "text"
      },
      "source": [
        "## 8. Exploratory Data Analysis\n",
        "#### Univariate and BiVariate Analysis"
      ]
    },
    {
      "cell_type": "markdown",
      "metadata": {
        "id": "WRCXP55hBfxg",
        "colab_type": "text"
      },
      "source": [
        "Percentage of employees who churn:\n",
        "The column churn is providing information about whether an employee has left the company or not is the column churn:\n",
        "\n",
        "- if the value of this column is 0, the employee is still with the company\n",
        "- if the value of this column is 1, then the employee has left the company\n",
        "Let’s calculate the turnover rate:\n",
        "\n",
        "we will first count the number of times the variable churn has the value 1 and the value 0, respectively,\n",
        "\n",
        "then divide both counts by the total, and multiply the result by 100 to get the percentage of employees who left and stayed\n"
      ]
    },
    {
      "cell_type": "markdown",
      "metadata": {
        "id": "JmuWEFJvKGfU",
        "colab_type": "text"
      },
      "source": [
        "#### Bi-Variate Analysis"
      ]
    },
    {
      "cell_type": "code",
      "metadata": {
        "id": "Yh8YgzmWKKtJ",
        "colab_type": "code",
        "colab": {
          "base_uri": "https://localhost:8080/",
          "height": 554
        },
        "outputId": "875c30b2-9373-43c5-df2a-def54d11f657"
      },
      "source": [
        "f, ax = plt.subplots(1,2, figsize=(20,8))\n",
        "\n",
        "colors = [\"#FA5858\", \"#64FE2E\", \"blue\"]\n",
        "labels = (\"Low\", \"Medium\" , \"High\")\n",
        "\n",
        "\n",
        "\n",
        "plt.suptitle('Information on Churn with resepect to Salary Category', fontsize=20)\n",
        "\n",
        "df[\"Salary\"].value_counts().plot.pie(explode=[0,0.05, 0.05], autopct='%1.2f%%', ax=ax[0], shadow=True, colors=colors, \n",
        "                                             labels=labels, fontsize=15, startangle=45)\n",
        "\n",
        "\n",
        "\n",
        "\n",
        "ax[0].set_xlabel('Percentage of Employee in Each Salary Category', fontsize=14)\n",
        "ax[0].set_ylabel('')\n",
        "\n",
        "\n",
        "sns.barplot(x = 'Salary', y = 'Churn' , data = df ,palette=\"RdYlBu\")\n",
        "\n",
        "ax[1].set(ylabel=\"(Churn Rate)\")\n",
        "\n",
        "plt.show()"
      ],
      "execution_count": 65,
      "outputs": [
        {
          "output_type": "display_data",
          "data": {
            "image/png": "[encoded data removed]",
            "text/plain": [
              "<Figure size 1440x576 with 2 Axes>"
            ]
          },
          "metadata": {
            "tags": []
          }
        }
      ]
    },
    {
      "cell_type": "code",
      "metadata": {
        "id": "lOJV20kDbfH2",
        "colab_type": "code",
        "outputId": "fc0040c2-0ea1-4175-8f4c-d20829caf030",
        "colab": {
          "base_uri": "https://localhost:8080/",
          "height": 136
        }
      },
      "source": [
        "# Get the total number of observations and save it\n",
        "n_employees = len(df)\n",
        "\n",
        "# Print the number of employees who left/stayed\n",
        "print(df.Churn.value_counts(),\"\\n\")\n",
        "\n",
        "# Print the percentage of employees who left/stayed\n",
        "print(df.Churn.value_counts()/n_employees*100)"
      ],
      "execution_count": 66,
      "outputs": [
        {
          "output_type": "stream",
          "text": [
            "0    11428\n",
            "1     3571\n",
            "Name: Churn, dtype: int64 \n",
            "\n",
            "0    76.191746\n",
            "1    23.808254\n",
            "Name: Churn, dtype: float64\n"
          ],
          "name": "stdout"
        }
      ]
    },
    {
      "cell_type": "markdown",
      "metadata": {
        "id": "LknPRM81CA9m",
        "colab_type": "text"
      },
      "source": [
        "- As we can see, 11,428 employees stayed, which accounts for about 76% of the total employee count. \n",
        "- Similarly, 3,571 employees left, which accounts for about 24% of them"
      ]
    },
    {
      "cell_type": "code",
      "metadata": {
        "id": "RVVEgjc7vFtF",
        "colab_type": "code",
        "outputId": "181cf74f-51b7-42fc-9cf5-230a2787637c",
        "colab": {
          "base_uri": "https://localhost:8080/",
          "height": 578
        }
      },
      "source": [
        "f, ax = plt.subplots(1,2, figsize=(20,8))\n",
        "\n",
        "colors = [\"#64FE2E\", \"#FA5858\"]\n",
        "labels = (\"Not Churned\", \"churned\")\n",
        "\n",
        "plt.suptitle('Information on Churn Ratio with respect to Department', fontsize=20)\n",
        "\n",
        "df[\"Churn\"].value_counts().plot.pie(explode=[0,0.05], autopct='%1.2f%%', ax=ax[0], shadow=True, colors=colors, \n",
        "                                             labels=labels, fontsize=15, startangle=45)\n",
        "\n",
        "\n",
        "\n",
        "\n",
        "ax[0].set_xlabel('Churned vs Non Churned percentage', fontsize=14)\n",
        "ax[0].set_ylabel('')\n",
        "\n",
        "palette = [\"#64FE2E\", \"#FA5858\"]\n",
        "\n",
        "sns.barplot(x = 'Department', y = 'Churn'  , data = df)\n",
        "ax[1].set(ylabel=\"(Churn Rate)\")\n",
        "ax[1].set_xticklabels(df[\"Department\"].unique(), rotation=90, rotation_mode=\"anchor\")\n",
        "plt.show()"
      ],
      "execution_count": 67,
      "outputs": [
        {
          "output_type": "display_data",
          "data": {
            "image/png": "[encoded data removed]",
            "text/plain": [
              "<Figure size 1440x576 with 2 Axes>"
            ]
          },
          "metadata": {
            "tags": []
          }
        }
      ]
    },
    {
      "cell_type": "markdown",
      "metadata": {
        "id": "WpL-FsW9T-Kl",
        "colab_type": "text"
      },
      "source": [
        "- Overall 23.81% of Employess have Churned\n",
        "- "
      ]
    },
    {
      "cell_type": "code",
      "metadata": {
        "id": "7XScqjYqM23e",
        "colab_type": "code",
        "colab": {
          "base_uri": "https://localhost:8080/",
          "height": 68
        },
        "outputId": "e2b265f3-737d-4a3f-ebbd-d6b14e632321"
      },
      "source": [
        "df.Promotion.value_counts()"
      ],
      "execution_count": 68,
      "outputs": [
        {
          "output_type": "execute_result",
          "data": {
            "text/plain": [
              "0    14680\n",
              "1      319\n",
              "Name: Promotion, dtype: int64"
            ]
          },
          "metadata": {
            "tags": []
          },
          "execution_count": 68
        }
      ]
    },
    {
      "cell_type": "markdown",
      "metadata": {
        "id": "LMOeNAxpTqRo",
        "colab_type": "text"
      },
      "source": [
        "#### Salary Category,  Department and Churn Rate"
      ]
    },
    {
      "cell_type": "code",
      "metadata": {
        "id": "Ri8lPxE8wODh",
        "colab_type": "code",
        "colab": {
          "base_uri": "https://localhost:8080/",
          "height": 981
        },
        "outputId": "7074a4a7-c2f2-402f-aad1-3f549b2a837f"
      },
      "source": [
        "facetgrid = sns.FacetGrid(df , row = 'Salary', height = 4.5 , aspect =1.8)\n",
        "facetgrid.map(sns.pointplot, 'Department','Churn', order=None, hue_order=None)\n",
        "facetgrid.add_legend()\n",
        "plt.show()"
      ],
      "execution_count": 69,
      "outputs": [
        {
          "output_type": "display_data",
          "data": {
            "image/png": "[encoded data removed]",
            "text/plain": [
              "<Figure size 591.2x972 with 3 Axes>"
            ]
          },
          "metadata": {
            "tags": []
          }
        }
      ]
    },
    {
      "cell_type": "markdown",
      "metadata": {
        "id": "OKfjsgB4NnIW",
        "colab_type": "text"
      },
      "source": [
        "From the above PointPlot, We can See:\n",
        "- People with High Salary have less chances of leaving the Organisation Compared to People with Medium Or Low Salary.\n",
        "- You can also notice for each Salary Category, which Department had Higher Curn Rate"
      ]
    },
    {
      "cell_type": "code",
      "metadata": {
        "id": "coTOjCu0PdRu",
        "colab_type": "code",
        "colab": {
          "base_uri": "https://localhost:8080/",
          "height": 68
        },
        "outputId": "e8237d6a-929d-4c2d-9aeb-6d262d07c8b4"
      },
      "source": [
        "df.Promotion.value_counts()"
      ],
      "execution_count": 70,
      "outputs": [
        {
          "output_type": "execute_result",
          "data": {
            "text/plain": [
              "0    14680\n",
              "1      319\n",
              "Name: Promotion, dtype: int64"
            ]
          },
          "metadata": {
            "tags": []
          },
          "execution_count": 70
        }
      ]
    },
    {
      "cell_type": "markdown",
      "metadata": {
        "id": "znOK8cXUTflB",
        "colab_type": "text"
      },
      "source": [
        "#### Promotion, Salary Category and Churn Rate"
      ]
    },
    {
      "cell_type": "code",
      "metadata": {
        "id": "_mDFlb2LOvHh",
        "colab_type": "code",
        "colab": {
          "base_uri": "https://localhost:8080/",
          "height": 554
        },
        "outputId": "cdb9e6aa-c8fd-4f35-c75f-68fb2a28c7e1"
      },
      "source": [
        "f, ax = plt.subplots(1,3, figsize=(20,8 ))\n",
        "plt.suptitle('Information on Promotion of Employees', fontsize=20)\n",
        "\n",
        "df[\"Promotion\"].value_counts().plot.pie(explode=[0,0.05], autopct='%1.2f%%', ax=ax[0], shadow=True, colors=colors, \n",
        "                                             labels=['Not Promoted', 'Promoted'], fontsize=15, startangle=45)\n",
        "sns.barplot(x = 'Salary', y = 'Promotion',data = df , ax = ax[1], palette = 'YlOrBr')\n",
        "sns.barplot(x = 'Salary', y = 'Churn', hue = 'Promotion',data = df,  ax = ax[2], palette = 'Accent_r')\n",
        "plt.show()"
      ],
      "execution_count": 71,
      "outputs": [
        {
          "output_type": "display_data",
          "data": {
            "image/png": "[encoded data removed]",
            "text/plain": [
              "<Figure size 1440x576 with 3 Axes>"
            ]
          },
          "metadata": {
            "tags": []
          }
        }
      ]
    },
    {
      "cell_type": "markdown",
      "metadata": {
        "id": "ZqsDI6Q3QvFo",
        "colab_type": "text"
      },
      "source": [
        "From the above plot, we can see:-\n",
        "- 2.13% of total Employees were promoted in Last Year.\n",
        "- Salary Category High had the Highest Percentage of Promotions followed by Medium and Least in Low Cateogory.\n",
        "- Also, None of the Employees who Got Promoted in High Category, left the Organisation.\n",
        "- Ovarall, Employee who got Promoted had lower rate of Churn in Each Salary Category"
      ]
    },
    {
      "cell_type": "markdown",
      "metadata": {
        "id": "KLdGtKiATZvg",
        "colab_type": "text"
      },
      "source": [
        "#### Promotion, Department and Churn Rate"
      ]
    },
    {
      "cell_type": "code",
      "metadata": {
        "id": "sfp4Vd2ISKNn",
        "colab_type": "code",
        "colab": {
          "base_uri": "https://localhost:8080/",
          "height": 447
        },
        "outputId": "80506f0c-fd43-4ca0-dd92-a51373e7b25b"
      },
      "source": [
        "plt.figure(figsize=(16,7))\n",
        "sns.pointplot(x='Department', y = 'Churn',hue = 'Promotion', data= df )\n",
        "plt.show()"
      ],
      "execution_count": 72,
      "outputs": [
        {
          "output_type": "display_data",
          "data": {
            "image/png": "[encoded data removed]",
            "text/plain": [
              "<Figure size 1152x504 with 1 Axes>"
            ]
          },
          "metadata": {
            "tags": []
          }
        }
      ]
    },
    {
      "cell_type": "markdown",
      "metadata": {
        "id": "YgOXOabCSbv7",
        "colab_type": "text"
      },
      "source": [
        "- As we have already seen, people who got promoted had lower Rate of Churn compared to Non Promoted except in IT Department\n",
        "- The rate of Churn overall is not highly varying for Employees who got promoted or Not in Different Department except in IT.\n",
        "- In IT department, people who got Promoted had High Rate of Churn.\n",
        "What do You Think about this?\n"
      ]
    },
    {
      "cell_type": "markdown",
      "metadata": {
        "id": "FoRDAghiaTiY",
        "colab_type": "text"
      },
      "source": [
        "## 9. Date Preprocessing:\n",
        "We will preprocess the data now in order prepare it for Modeling.\n",
        "- We will inspect the dataframe and remove useless or Redundant variables\n",
        "- We will seperate Feature i.e Independent and Target i.e. Dependent Variable\n",
        "- We will split the whole Dataframe into two Parts: Train Data and Test Data\n",
        "\n",
        "Let's print the top 5 rows and see the current state of data."
      ]
    },
    {
      "cell_type": "code",
      "metadata": {
        "id": "mFaa1a3Lak7e",
        "colab_type": "code",
        "colab": {
          "base_uri": "https://localhost:8080/",
          "height": 224
        },
        "outputId": "e68f1386-da9e-464b-9100-4f85d3c17eec"
      },
      "source": [
        "df.head()"
      ],
      "execution_count": 73,
      "outputs": [
        {
          "output_type": "execute_result",
          "data": {
            "text/html": [
              "<div>\n",
              "<style scoped>\n",
              "    .dataframe tbody tr th:only-of-type {\n",
              "        vertical-align: middle;\n",
              "    }\n",
              "\n",
              "    .dataframe tbody tr th {\n",
              "        vertical-align: top;\n",
              "    }\n",
              "\n",
              "    .dataframe thead th {\n",
              "        text-align: right;\n",
              "    }\n",
              "</style>\n",
              "<table border=\"1\" class=\"dataframe\">\n",
              "  <thead>\n",
              "    <tr style=\"text-align: right;\">\n",
              "      <th></th>\n",
              "      <th>Satisfaction</th>\n",
              "      <th>Evaluation</th>\n",
              "      <th>number_of_projects</th>\n",
              "      <th>average_montly_hours</th>\n",
              "      <th>time_spent_company</th>\n",
              "      <th>work_accident</th>\n",
              "      <th>Promotion</th>\n",
              "      <th>Department</th>\n",
              "      <th>Churn</th>\n",
              "      <th>Salary</th>\n",
              "      <th>Salary_cat</th>\n",
              "      <th>IT</th>\n",
              "      <th>RandD</th>\n",
              "      <th>hr</th>\n",
              "      <th>management</th>\n",
              "      <th>marketing</th>\n",
              "      <th>product_mng</th>\n",
              "      <th>sales</th>\n",
              "      <th>support</th>\n",
              "      <th>technical</th>\n",
              "    </tr>\n",
              "  </thead>\n",
              "  <tbody>\n",
              "    <tr>\n",
              "      <th>0</th>\n",
              "      <td>3.8</td>\n",
              "      <td>5.3</td>\n",
              "      <td>2</td>\n",
              "      <td>157</td>\n",
              "      <td>3</td>\n",
              "      <td>0</td>\n",
              "      <td>0</td>\n",
              "      <td>sales</td>\n",
              "      <td>1</td>\n",
              "      <td>Low</td>\n",
              "      <td>0</td>\n",
              "      <td>0</td>\n",
              "      <td>0</td>\n",
              "      <td>0</td>\n",
              "      <td>0</td>\n",
              "      <td>0</td>\n",
              "      <td>0</td>\n",
              "      <td>1</td>\n",
              "      <td>0</td>\n",
              "      <td>0</td>\n",
              "    </tr>\n",
              "    <tr>\n",
              "      <th>1</th>\n",
              "      <td>8.0</td>\n",
              "      <td>8.6</td>\n",
              "      <td>5</td>\n",
              "      <td>262</td>\n",
              "      <td>6</td>\n",
              "      <td>0</td>\n",
              "      <td>0</td>\n",
              "      <td>sales</td>\n",
              "      <td>1</td>\n",
              "      <td>Medium</td>\n",
              "      <td>1</td>\n",
              "      <td>0</td>\n",
              "      <td>0</td>\n",
              "      <td>0</td>\n",
              "      <td>0</td>\n",
              "      <td>0</td>\n",
              "      <td>0</td>\n",
              "      <td>1</td>\n",
              "      <td>0</td>\n",
              "      <td>0</td>\n",
              "    </tr>\n",
              "    <tr>\n",
              "      <th>2</th>\n",
              "      <td>1.1</td>\n",
              "      <td>8.8</td>\n",
              "      <td>7</td>\n",
              "      <td>272</td>\n",
              "      <td>4</td>\n",
              "      <td>0</td>\n",
              "      <td>0</td>\n",
              "      <td>sales</td>\n",
              "      <td>1</td>\n",
              "      <td>Medium</td>\n",
              "      <td>1</td>\n",
              "      <td>0</td>\n",
              "      <td>0</td>\n",
              "      <td>0</td>\n",
              "      <td>0</td>\n",
              "      <td>0</td>\n",
              "      <td>0</td>\n",
              "      <td>1</td>\n",
              "      <td>0</td>\n",
              "      <td>0</td>\n",
              "    </tr>\n",
              "    <tr>\n",
              "      <th>3</th>\n",
              "      <td>7.2</td>\n",
              "      <td>8.7</td>\n",
              "      <td>5</td>\n",
              "      <td>223</td>\n",
              "      <td>5</td>\n",
              "      <td>0</td>\n",
              "      <td>0</td>\n",
              "      <td>sales</td>\n",
              "      <td>1</td>\n",
              "      <td>Low</td>\n",
              "      <td>0</td>\n",
              "      <td>0</td>\n",
              "      <td>0</td>\n",
              "      <td>0</td>\n",
              "      <td>0</td>\n",
              "      <td>0</td>\n",
              "      <td>0</td>\n",
              "      <td>1</td>\n",
              "      <td>0</td>\n",
              "      <td>0</td>\n",
              "    </tr>\n",
              "    <tr>\n",
              "      <th>4</th>\n",
              "      <td>3.7</td>\n",
              "      <td>5.2</td>\n",
              "      <td>2</td>\n",
              "      <td>159</td>\n",
              "      <td>3</td>\n",
              "      <td>0</td>\n",
              "      <td>0</td>\n",
              "      <td>sales</td>\n",
              "      <td>1</td>\n",
              "      <td>Low</td>\n",
              "      <td>0</td>\n",
              "      <td>0</td>\n",
              "      <td>0</td>\n",
              "      <td>0</td>\n",
              "      <td>0</td>\n",
              "      <td>0</td>\n",
              "      <td>0</td>\n",
              "      <td>1</td>\n",
              "      <td>0</td>\n",
              "      <td>0</td>\n",
              "    </tr>\n",
              "  </tbody>\n",
              "</table>\n",
              "</div>"
            ],
            "text/plain": [
              "   Satisfaction  Evaluation  number_of_projects  ...  sales  support  technical\n",
              "0           3.8         5.3                   2  ...      1        0          0\n",
              "1           8.0         8.6                   5  ...      1        0          0\n",
              "2           1.1         8.8                   7  ...      1        0          0\n",
              "3           7.2         8.7                   5  ...      1        0          0\n",
              "4           3.7         5.2                   2  ...      1        0          0\n",
              "\n",
              "[5 rows x 20 columns]"
            ]
          },
          "metadata": {
            "tags": []
          },
          "execution_count": 73
        }
      ]
    },
    {
      "cell_type": "markdown",
      "metadata": {
        "id": "BdSGJLV0ap-G",
        "colab_type": "text"
      },
      "source": [
        "As we have already created Numerical representation Variables for both Salary Column and Department Column, let's drop them."
      ]
    },
    {
      "cell_type": "code",
      "metadata": {
        "id": "o04_eN0Ea4_W",
        "colab_type": "code",
        "colab": {}
      },
      "source": [
        "df = df.drop(['Salary', 'Department'], axis = 1)"
      ],
      "execution_count": 0,
      "outputs": []
    },
    {
      "cell_type": "markdown",
      "metadata": {
        "id": "JnO8aANUDQgf",
        "colab_type": "text"
      },
      "source": [
        "#### Splitting the data\n",
        "\n",
        "#### Separating Target and Features\n",
        "In order to make a prediction (in this case, whether an employee would leave or not), one needs to separate the dataset into two components:\n",
        "- Dropping variables with data type as string(object)\n",
        "- The dependent variable or target which needs to be predicted\n",
        "- The independent variables or features that will be used to make a prediction\n",
        "Your task is to separate the target and features. \n",
        "- Overall Employees belonging to Salary Category Low had rate of Churn for both Promoted as well as Non Promoted.\n",
        "\n",
        "The target you have here is the employee churn, and features include everything else."
      ]
    },
    {
      "cell_type": "code",
      "metadata": {
        "id": "h3CbyKdHH8GA",
        "colab_type": "code",
        "colab": {}
      },
      "source": [
        "# selecting dependent variable column (churn) and setting it as target variable y\n",
        "y = df.Churn\n",
        "\n",
        "# Drop column churn and set everything else as features X\n",
        "X = df.drop(\"Churn\",axis=1)"
      ],
      "execution_count": 0,
      "outputs": []
    },
    {
      "cell_type": "markdown",
      "metadata": {
        "id": "mKEjOyl1H8r6",
        "colab_type": "text"
      },
      "source": [
        "#### Train-Test split\n",
        "\n",
        "Overfitting the dataset is a common problem in analytics. This happens when a model is working well on the dataset it was developed upon, but fails to generalize outside of it.\n",
        "A train/test split provides the opportunity to develop the classifier on the training component and test it on the rest of the dataset. \n",
        "\n",
        "A train/test split is implemented to ensure model generalization: We develop the model using the training sample and try it out on the test sample later on.\n",
        "#### Splitting employee data:<br>\n",
        "In this section, we will split both target and features into train and test sets with 75%/25% ratio, respectively.\n",
        "- Train: the component used to develop the model\n",
        "- Test: the component used to validate the model"
      ]
    },
    {
      "cell_type": "code",
      "metadata": {
        "id": "QGRN2YGtDRox",
        "colab_type": "code",
        "colab": {}
      },
      "source": [
        "# Import the function for splitting dataset into train and test\n",
        "from sklearn.model_selection import train_test_split\n",
        "\n",
        "# Creating the splits both for target and features, Setting the test sample to be 25% of your observations\n",
        "X_train, X_test, y_train, y_test = train_test_split(X,y,test_size=0.25)"
      ],
      "execution_count": 0,
      "outputs": []
    },
    {
      "cell_type": "code",
      "metadata": {
        "id": "H4_CbwSMJb5E",
        "colab_type": "code",
        "outputId": "6acf9584-1ba0-4e43-ab10-051722882cc8",
        "colab": {
          "base_uri": "https://localhost:8080/",
          "height": 34
        }
      },
      "source": [
        "len(X_train), len(X_test),len(y_train), len(y_test)"
      ],
      "execution_count": 77,
      "outputs": [
        {
          "output_type": "execute_result",
          "data": {
            "text/plain": [
              "(11249, 3750, 11249, 3750)"
            ]
          },
          "metadata": {
            "tags": []
          },
          "execution_count": 77
        }
      ]
    },
    {
      "cell_type": "markdown",
      "metadata": {
        "id": "k7gYGKITLgU1",
        "colab_type": "text"
      },
      "source": [
        "## 10. Model Building\n",
        "Since the problem in our hand is Binary classification, we can pick any of the classification Class algorithms such as :\n",
        "- Logistic regression\n",
        "- SVM\n",
        "- Bayesian classifier\n",
        "- Tree based Models\n",
        "- Ensemble/Boosting Models\n",
        "- Neural Networks\n",
        "- Others\n",
        "\n",
        "### For this problem, let's continue with Decision Tree classifier due to following advantages:\n",
        "- It's very popular and Flexible\n",
        "- Easy to understand and interpret\n",
        "- It does not require any statistical knowledge to read and interpret them.\n",
        "- It requires less data cleaning compared to some other modeling techniques.\n",
        "- It is not influenced by outliers and missing values to a fair degree.\n",
        "- Data type is not a constraint: It can handle both numerical and categorical variables. Can also handle multi-class Classification problems.\n",
        "- Decision trees implicitly perform variable screening or feature selection.\n",
        "- Can be used to find out important driving features effecting our target variable.\n",
        "- Non-Parametric Nature: This means that decision trees have no assumptions about the space distribution and the classifier structure.\n",
        "- Non-linear relationships between parameters do not affect tree performance.\n",
        "- The Hyper Parameters of Decision Tree are easy to interpret and Tune.\n",
        "\n"
      ]
    },
    {
      "cell_type": "markdown",
      "metadata": {
        "id": "9yY_TUv5g67h",
        "colab_type": "text"
      },
      "source": [
        "### Let's Understand how a Decision Tree works:\n",
        "- A decision tree is a flowchart-like structure in which each internal node represents a “test” on an attribute (e.g. whether a coin flip comes up heads or tails)\n",
        "- Each branch represents the outcome of the test\n",
        "-  Each leaf node represents a class label (decision taken after computing all attributes)\n",
        "- The paths from root to leaf represent classification rules.\n",
        "- These Classification Rules are created by selecting appropriate feature out of all the features and splitting the current brannch into sub branches or leaves as shown in Figure Below:\n"
      ]
    },
    {
      "cell_type": "markdown",
      "metadata": {
        "id": "wMcHl4ZburGG",
        "colab_type": "text"
      },
      "source": [
        "\n",
        "### Decision Tree Classification:\n",
        "\n",
        "\n",
        "\n",
        "![image.png](data:image/png;base64,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)"
      ]
    },
    {
      "cell_type": "markdown",
      "metadata": {
        "id": "i2P6H1KDQ8Z3",
        "colab_type": "text"
      },
      "source": [
        "#### How does decision tree identifies the feature to split?\n",
        "Decision tree identifies the most significant variable and its value that gives best homogeneous sets of population by comparing the Homogeneity Score of each Feature Split. The Homogeniety score is Usually measured in Gini Index or Entropy which are described below:\n",
        "\n",
        "#### Homogeniety Metrics and Splitting rules:\n",
        "The decision tree algorithm aims to achieve partitions in the terminal nodes that are as pure as possible. The Gini index is one of the methods used to calculate purity. It is calculated based on the proportion of samples in each group.\n",
        "\n",
        "Given the number of people who stayed and left respectively, calculate the Gini index for that node.\n",
        "\n",
        "- **Gini: 2*p*(1-p)** <br>\n",
        "\n",
        "Entropy is also one of measure to calulate purity:\n",
        "- **Entropy: p*log(p) - (1-p)*log(1-p)**\n",
        "\n",
        "### *The objective is to minimize the Gini or Entropy to get pure samples at last Node while creating the splitting Rules i.e Fitting the Training Data on Model.*\n",
        "\n",
        "Let's pick Gini as it will gives us better performance due to faster calculations as logs are not required."
      ]
    },
    {
      "cell_type": "markdown",
      "metadata": {
        "id": "4wOAcp2-R8w7",
        "colab_type": "text"
      },
      "source": [
        "#### Decision Tree splitting:\n",
        "#### Hypothetical example\n",
        "Total set: 100 observations, 40 left, 60 stayed\n",
        "\n",
        "Gini: 2*0.4*0.6 = 0.48\n",
        "Splitting rule: satisfaction > 0.8\n",
        "\n",
        "Left branch (YES) - 50 people: all stayed\n",
        "Gini: 2*1*0 = 0\n",
        "Right branch (NO) - 50 people: 40 left, 10 stayed\n",
        "Gini: 2*0.4*0.1 = 0.08"
      ]
    },
    {
      "cell_type": "code",
      "metadata": {
        "id": "a4uHxYcLJlOr",
        "colab_type": "code",
        "outputId": "65cd8ffd-2413-4b5b-f65c-4420d98ec9cd",
        "colab": {
          "base_uri": "https://localhost:8080/",
          "height": 34
        }
      },
      "source": [
        "#number of people who stayed/left\n",
        "stayed = 60\n",
        "left = 1140\n",
        "\n",
        "#sum of stayed and left\n",
        "total = stayed + left\n",
        "\n",
        "#gini index\n",
        "gini = 2*(stayed/total)*(left/total)\n",
        "gini"
      ],
      "execution_count": 78,
      "outputs": [
        {
          "output_type": "execute_result",
          "data": {
            "text/plain": [
              "0.095"
            ]
          },
          "metadata": {
            "tags": []
          },
          "execution_count": 78
        }
      ]
    },
    {
      "cell_type": "markdown",
      "metadata": {
        "id": "KdH2zhh3TCfX",
        "colab_type": "text"
      },
      "source": [
        "Splitting the tree:\n",
        "Given the Gini index that would result from splitting by either variable A or B, respectively, decide by which variable the tree should split next.\n",
        "\n",
        "#### Gini index in case of splitting by variable A or B\n",
        "gini_A = 0.65\n",
        "gini_B = 0.15\n",
        "\n",
        "#### Check which Gini is lower and use it for spliting\n",
        "if gini_A < gini_B:\n",
        "\n",
        "    print(\"split by A!\")\n",
        "\n",
        "else:\n",
        "\n",
        "    print(\"split by B!\")"
      ]
    },
    {
      "cell_type": "markdown",
      "metadata": {
        "id": "etmYarCmXP0e",
        "colab_type": "text"
      },
      "source": [
        "\n",
        "### Baseline Decision Tree Classifier\n",
        "\n",
        "In this section, you will start developing an employee turnover prediction model using the decision tree classification algorithm. The algorithm provides a .fit() method, which can be used to fit the features to the model in the training set.\n",
        "\n",
        "Reminder: both target and features are already split into train and test components."
      ]
    },
    {
      "cell_type": "code",
      "metadata": {
        "id": "r8bQyKs3Srg6",
        "colab_type": "code",
        "outputId": "1ebe5d7f-7eee-4bef-8f1b-6a7f80150fc3",
        "colab": {
          "base_uri": "https://localhost:8080/",
          "height": 119
        }
      },
      "source": [
        "# Import the classification algorithm\n",
        "from sklearn.tree import DecisionTreeClassifier\n",
        "\n",
        "# Initialize it and call model by specifying the random_state parameter\n",
        "model = DecisionTreeClassifier(random_state=42)\n",
        "\n",
        "# Apply a decision tree model to fit features to the target on the training set\n",
        "model.fit(X_train, y_train)\n"
      ],
      "execution_count": 79,
      "outputs": [
        {
          "output_type": "execute_result",
          "data": {
            "text/plain": [
              "DecisionTreeClassifier(class_weight=None, criterion='gini', max_depth=None,\n",
              "                       max_features=None, max_leaf_nodes=None,\n",
              "                       min_impurity_decrease=0.0, min_impurity_split=None,\n",
              "                       min_samples_leaf=1, min_samples_split=2,\n",
              "                       min_weight_fraction_leaf=0.0, presort=False,\n",
              "                       random_state=42, splitter='best')"
            ]
          },
          "metadata": {
            "tags": []
          },
          "execution_count": 79
        }
      ]
    },
    {
      "cell_type": "markdown",
      "metadata": {
        "id": "f-v448wMff6P",
        "colab_type": "text"
      },
      "source": [
        "Now the Model has been created and fitted on Training data let's evaluate the Performance"
      ]
    },
    {
      "cell_type": "markdown",
      "metadata": {
        "id": "Z1OjDJzZZXc1",
        "colab_type": "text"
      },
      "source": [
        "#### Checking the accuracy of prediction:\n",
        "Let's evaluate our accurately our trained model can make predictions! \n",
        "We will be using testing set to check the accuracy of your Decision Tree model, with the score() method\n"
      ]
    },
    {
      "cell_type": "code",
      "metadata": {
        "id": "oAnISrE1XqUT",
        "colab_type": "code",
        "outputId": "22490fdf-c83d-44a8-a76f-4630dc82bf7f",
        "colab": {
          "base_uri": "https://localhost:8080/",
          "height": 51
        }
      },
      "source": [
        "# Check the accuracy score of the prediction for the training set\n",
        "print(\"Train Accuracy: \", model.score(X_train, y_train)*100)\n",
        "\n",
        "# Check the accuracy score of the prediction for the test set\n",
        "print(\"Test Accuracy: \", model.score(X_test, y_test)*100)"
      ],
      "execution_count": 80,
      "outputs": [
        {
          "output_type": "stream",
          "text": [
            "Train Accuracy:  100.0\n",
            "Test Accuracy:  98.05333333333334\n"
          ],
          "name": "stdout"
        }
      ]
    },
    {
      "cell_type": "markdown",
      "metadata": {
        "id": "x-le3-lfa6RB",
        "colab_type": "text"
      },
      "source": [
        "Our algorithm did great work on the training set.\n",
        "while On the testing set also, it was able to correctly predict if an employee would leave or not in almost 98% of the cases!\n",
        "\n",
        "#### Before, we Jump into next section and Start tuning the HyperParameters of Decision Tree, Let us understand how to export decision Tree algorithm/model generated by fitting the training Data"
      ]
    },
    {
      "cell_type": "markdown",
      "metadata": {
        "id": "MOs9m42WIGQz",
        "colab_type": "text"
      },
      "source": [
        "\n",
        "#### Interpretion of Decision Tree:\n",
        "As we already know the decision tree algorithm works in very similar way as human brain in order to arrive on prediction result.\n",
        "\n",
        "In this section, we will generate a graphical representation of Our Trained Decision Tree algorithm to understand more about it.\n",
        "\n",
        "We will perform following 3 steps:\n",
        "- Export the Algorithm in a file \n",
        "- Copying the contents the Exported File using any text editor\n",
        "- Paste the copied content to generate the Graph on http://www.webgraphviz.com/"
      ]
    },
    {
      "cell_type": "markdown",
      "metadata": {
        "id": "_PovhpBjJhD-",
        "colab_type": "text"
      },
      "source": [
        "![image.png](data:image/png;base64,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)\n",
        "\n",
        "- You can see that, as the Tree is growing Gini Index is Decreasing which was also the purpose of our algorithm"
      ]
    },
    {
      "cell_type": "markdown",
      "metadata": {
        "id": "aoVKD8DcKDz0",
        "colab_type": "text"
      },
      "source": [
        "#### Exporting the tree\n",
        "In Decision Tree classification tasks, overfitting is usually the result of deeply grown trees. As the comparison of accuracy scores on the train and test sets shows, you have overfitting in your results. This can also be learned from the tree visualization.\n",
        "\n",
        "In this section, you will export the decision tree into a text document, which can then be used for visualization."
      ]
    },
    {
      "cell_type": "code",
      "metadata": {
        "id": "Qi0GP0oRJiLw",
        "colab_type": "code",
        "colab": {}
      },
      "source": [
        "# Import the graphical visualization export function\n",
        "from sklearn.tree import export_graphviz\n",
        "\n",
        "# Import the classification algorithm\n",
        "from sklearn.tree import DecisionTreeClassifier\n",
        "\n",
        "# Initialize it and call model by specifying the random_state parameter\n",
        "model = DecisionTreeClassifier(random_state=42)\n",
        "\n",
        "# Apply Decision Tree model to fit Features to the Target\n",
        "model.fit(X_train,y_train)\n",
        "\n",
        "# Export the tree to a dot file\n",
        "export_graphviz(model,\"tree.dot\")"
      ],
      "execution_count": 0,
      "outputs": []
    },
    {
      "cell_type": "markdown",
      "metadata": {
        "id": "m-ky_Gi_SI2D",
        "colab_type": "text"
      },
      "source": [
        "### Overfitting\n",
        "Overfitting is a classic problem in analytics, especially for the decision tree algorithm. Once the tree is fully grown, it may provide highly accurate predictions for the training sample, yet fail to be that accurate on the test set. For that reason, the growth of the decision tree is usually controlled by:\n",
        "\n",
        "#### Pruning the Tree\n",
        "- “Pruning” the tree and setting a limit on the maximum depth it can have.\n",
        "-  \"Limiting\" the minimum number of observations in one leaf of the tree.\n",
        "\n",
        "Let's try with limiting the depth First:"
      ]
    },
    {
      "cell_type": "markdown",
      "metadata": {
        "id": "3luKFqNG_EXY",
        "colab_type": "text"
      },
      "source": [
        "### 11. Hyper parameters\n",
        "#### Homo `criterion` (default=”gini”)\n",
        "- The function to measure the quality of a split. Supported criteria are “gini” for the Gini impurity and “entropy” for the information gain.\n",
        "- We have already discussed this in previous section.\n",
        "\n",
        "\n",
        "#### Maximum depth of tree (vertical depth): max_depth (default=None)\n",
        "- The maximum depth of a tree.\n",
        "- Used to control over-fitting as higher depth will allow model to learn relations very specific to a particular sample.\n",
        "- Should be tuned using CV.\n",
        "\n",
        "#### Minimum samples for a node split: min_samples_split(default=2)\n",
        "- Defines the minimum number of samples (or observations) which are required in a node to be considered for splitting.\n",
        "- Used to control over-fitting. Higher values prevent a model from learning relations which might be highly specific to the particular sample selected for a tree.\n",
        "- Too high values can lead to under-fitting hence, it should be tuned using CV.\n",
        " \n",
        "#### Minimum samples for a terminal node (leaf):min_samples_leaf (default=1)\n",
        "- Defines the minimum samples (or observations) required in a terminal node or leaf.\n",
        "- Also used to control over-fitting similar to min_samples_split.\n",
        "- Generally lower values should be chosen for imbalanced class problems because the regions in which the minority class will be in majority will be very small.\n",
        "\n",
        "#### Maximum features to consider for split: max_features\n",
        "The number of features to consider while searching for a best split. These will be randomly selected.\n",
        "As a thumb-rule, square root of the total number of features works great but we should check upto 30–40% of the total number of features.\n",
        "Higher values can lead to over-fitting but depends on case to case.\n",
        "\n",
        "#### Weight of Each Class of Target Variable:class_weight(default=None)\n",
        "Weights associated with classes in the form {class_label: weight} . If not given, all classes are supposed to have equal weight.\n",
        "it can also be understood as relative Importance given to prediction of each class. Higher the weight, higher will be Importance. \n",
        "\n",
        "#### Now that you are familiar with Hyper Parameters of Decision Tree and their task, Let's Tune some of them to Enhance our Model Performance.\n",
        "\n",
        "**NOTE:** In this Data Tale, I will tune only few parameters but you will have a clear understanding of How to Tune. So feel free to play around Other parameters and Tune them further."
      ]
    },
    {
      "cell_type": "code",
      "metadata": {
        "id": "1a51ZHOFSjjr",
        "colab_type": "code",
        "outputId": "e0f4e1d8-513f-4628-8e0c-e43924765344",
        "colab": {
          "base_uri": "https://localhost:8080/",
          "height": 51
        }
      },
      "source": [
        "# Limiting  Max Depth to 5\n",
        "model_depth_5 = DecisionTreeClassifier(\n",
        "                max_depth=5, random_state=42)\n",
        "\n",
        "\n",
        "# Apply a decision tree model to fit features to the target in the training set\n",
        "model_depth_5.fit(X_train, y_train)\n",
        "\n",
        "# Check the accuracy score of the prediction for the training set\n",
        "print(\"Train Accuracy: \", model_depth_5.score(X_train, y_train)*100)\n",
        "\n",
        "# Check the accuracy score of the prediction for the test set\n",
        "print(\"Test Accuracy: \", model_depth_5.score(X_test, y_test)*100)"
      ],
      "execution_count": 82,
      "outputs": [
        {
          "output_type": "stream",
          "text": [
            "Train Accuracy:  97.58200728953685\n",
            "Test Accuracy:  97.30666666666666\n"
          ],
          "name": "stdout"
        }
      ]
    },
    {
      "cell_type": "markdown",
      "metadata": {
        "id": "ZzJu93ORTBmp",
        "colab_type": "text"
      },
      "source": [
        "As we can see our test accuracy increased while Train accuracy decreased resulting in elimination of Overfitting.\n",
        "\n",
        "Now we will try a model with 100 samples/predicted datapoints at Leaf node:"
      ]
    },
    {
      "cell_type": "code",
      "metadata": {
        "id": "f2RcYiT5TAUD",
        "colab_type": "code",
        "outputId": "6c4b3a4f-3b51-401e-8c29-0b6cc9a574fd",
        "colab": {
          "base_uri": "https://localhost:8080/",
          "height": 51
        }
      },
      "source": [
        "model_sample_100 = DecisionTreeClassifier(\n",
        "                   min_samples_leaf=100, random_state=42)\n",
        "\n",
        "\n",
        "# Apply a decision tree model to fit features to the target in the training set\n",
        "model_sample_100.fit(X_train, y_train)\n",
        "\n",
        "# Check the accuracy score of the prediction for the training set\n",
        "print(\"Train Accuracy: \", model_sample_100.score(X_train, y_train)*100)\n",
        "\n",
        "# Check the accuracy score of the prediction for the test set\n",
        "print(\"Test Accuracy: \", model_sample_100.score(X_test, y_test)*100)"
      ],
      "execution_count": 83,
      "outputs": [
        {
          "output_type": "stream",
          "text": [
            "Train Accuracy:  96.39079029247044\n",
            "Test Accuracy:  96.18666666666667\n"
          ],
          "name": "stdout"
        }
      ]
    },
    {
      "cell_type": "markdown",
      "metadata": {
        "id": "sfSBhRuqUrC0",
        "colab_type": "text"
      },
      "source": [
        "Both train and test accuracy Decreased but still they are close to each i.e not underfitted though they can be overfit"
      ]
    },
    {
      "cell_type": "markdown",
      "metadata": {
        "id": "l6xOptp5DEXD",
        "colab_type": "text"
      },
      "source": [
        "#### Balancing classes\n",
        "Class Imbalance significantly affects prediction results, as shown by the difference between the recall and accuracy scores.\n",
        "\n",
        "To solve the imbalance, equal weights are usually given to each class. Using the class_weight argument in sklearn's DecisionTreeClassifier and setting it's value to \"balanced\".\n",
        "\n",
        "Let’s correct our model by solving its imbalance problem:\n",
        "\n",
        "- first, we’re going to set up a model with balanced classes\n",
        "- then, we will fit it to the training data\n",
        "- Finally, check its accuracy on the test set"
      ]
    },
    {
      "cell_type": "code",
      "metadata": {
        "id": "6IULT_wqDxM_",
        "colab_type": "code",
        "outputId": "103b8dbb-e552-4d74-b09f-7969f11eb13b",
        "colab": {
          "base_uri": "https://localhost:8080/",
          "height": 34
        }
      },
      "source": [
        "# Initialize the DecisionTreeClassifier with class Balanced\n",
        "model_depth_5_b = DecisionTreeClassifier(max_depth=5,class_weight=\"balanced\",random_state=42)\n",
        "\n",
        "# Fit the model\n",
        "model_depth_5_b.fit(X_train,y_train)\n",
        "\n",
        "# Print the accuracy of the prediction (in percentage points) for the test set\n",
        "print(model_depth_5_b.score(X_test,y_test)*100)"
      ],
      "execution_count": 84,
      "outputs": [
        {
          "output_type": "stream",
          "text": [
            "94.21333333333334\n"
          ],
          "name": "stdout"
        }
      ]
    },
    {
      "cell_type": "code",
      "metadata": {
        "id": "fMSH_9BEJkJ0",
        "colab_type": "code",
        "colab": {}
      },
      "source": [
        ""
      ],
      "execution_count": 0,
      "outputs": []
    },
    {
      "cell_type": "markdown",
      "metadata": {
        "id": "zgIJObVpWJBc",
        "colab_type": "text"
      },
      "source": [
        "## 12. Evaluation metrics:\n",
        "### 1. Confusion Matrix:\n",
        "- A confusion matrix is a summary of prediction results on a classification problem.\n",
        "\n",
        "- The number of correct and incorrect predictions are summarized with count values and broken down by each class. This is the key to the confusion matrix.\n",
        "\n",
        "- The confusion matrix shows the ways in which your classification model\n",
        "is confused when it makes predictions.\n",
        "\n",
        "- It gives you insight not only into the errors being made by your classifier but more importantly the types of errors that are being made.\n",
        "\n",
        "- It is this breakdown that overcomes the limitation of using classification accuracy alone\n",
        "\n"
      ]
    },
    {
      "cell_type": "code",
      "metadata": {
        "id": "tRx_sLAcW18Z",
        "colab_type": "code",
        "outputId": "730d3049-8956-4f47-e58b-93c8b4534659",
        "colab": {
          "base_uri": "https://localhost:8080/",
          "height": 51
        }
      },
      "source": [
        "from sklearn.metrics import confusion_matrix\n",
        "\n",
        "# Calulating predicted values for train data\n",
        "y_pred = model.predict(X_test)\n",
        "\n",
        "# Calculating and displaying the confusion matrix\n",
        "confusion_matrix(y_test, y_pred)"
      ],
      "execution_count": 85,
      "outputs": [
        {
          "output_type": "execute_result",
          "data": {
            "text/plain": [
              "array([[2799,   43],\n",
              "       [  30,  878]])"
            ]
          },
          "metadata": {
            "tags": []
          },
          "execution_count": 85
        }
      ]
    },
    {
      "cell_type": "markdown",
      "metadata": {
        "id": "Sth8OyR4W2ax",
        "colab_type": "text"
      },
      "source": [
        "The first row contains employee who did leave organization i.e Negative Class:\n",
        "\n",
        "- “True negative”:  2820 passengers were correctly classified as not survived.\n",
        "- 55 were wrongly classified as survived (false Positives).\n",
        "\n",
        "The second row is about the employees who left organization i.e positive Class: \n",
        "- 30 passengers were wrongly classified as Not-survived (False Negtives) \n",
        "- 845 were correctly classified as survived and they actually survived (true positives)."
      ]
    },
    {
      "cell_type": "markdown",
      "metadata": {
        "id": "Ycje_jWyWuGb",
        "colab_type": "text"
      },
      "source": [
        "- If target is leavers, focus on FN\n",
        " - Recall score = TP/(TP+FN)\n",
        " - Lower FN, higher Recall score\n",
        " - Recall score - % of correct predictions among 1s (leavers)\n",
        "- If target is stayers, focus on FP\n",
        " - Specificity = TN/(TN+FP)\n",
        " - Lower FP, higher Specificity,\n",
        " - Specificity - % of correct predictions among 0s (stayers)"
      ]
    },
    {
      "cell_type": "markdown",
      "metadata": {
        "colab_type": "text",
        "id": "JNn-09ZNZaq4"
      },
      "source": [
        "#### Calculating accuracy metrics: Precision\n",
        "The Precision score is an important metric used to measure the accuracy of a classification algorithm. It is calculated as the **Fraction of True Positives over the sum of True Positives and False Positives**, or\n",
        "\n",
        "number of True Positives / (number of True Positives + Number of False Positives.)\n",
        "\n",
        "we define True Positives as the number of employees who actually left, and were classified correctly as leaving\n",
        "we define False Positives as the number of employees who actually stayed, but were wrongly classified as leaving\n",
        "If there are no False Positives, the precision score is equal to 1. If there are no True Positives, the recall score is equal to 0."
      ]
    },
    {
      "cell_type": "code",
      "metadata": {
        "id": "KAJe95XHWdBW",
        "colab_type": "code",
        "outputId": "542fcf7c-fd4a-40cb-9151-842b7cf0ab18",
        "colab": {
          "base_uri": "https://localhost:8080/",
          "height": 34
        }
      },
      "source": [
        "# Import the function to calculate precision score\n",
        "from sklearn.metrics import precision_score\n",
        "\n",
        "# Predict whether employees will churn using the test set\n",
        "y_pred = model.predict(X_test)\n",
        "\n",
        "# Calculate precision score by comparing target_test with the prediction\n",
        "precision_score(y_test, y_pred)"
      ],
      "execution_count": 86,
      "outputs": [
        {
          "output_type": "execute_result",
          "data": {
            "text/plain": [
              "0.9533116178067318"
            ]
          },
          "metadata": {
            "tags": []
          },
          "execution_count": 86
        }
      ]
    },
    {
      "cell_type": "markdown",
      "metadata": {
        "id": "LXpVPPpSZ3lS",
        "colab_type": "text"
      },
      "source": [
        "Precision score of 0.9388 means 93.88 % of Employees our model predicted as Leaving actually left"
      ]
    },
    {
      "cell_type": "markdown",
      "metadata": {
        "id": "tp7dsUqyaTnX",
        "colab_type": "text"
      },
      "source": [
        "#### Calculating accuracy metrics: recall\n",
        "The Recall score is another important metric used to measure the accuracy of a classification algorithm. It is calculated as the **fraction of True Positives over the sum of True Positives and False Negatives** , or\n",
        "\n",
        "Number of True Positives / (Number of True Positives + Number of False Negatives)\n",
        "\n",
        "If there are no False Negatives, the recall score is equal to 1. If there are no True Positives, the recall score is equal to 0.\n",
        "\n",
        "In this section, you will calculate the precision score (using the sklearn function recall_score) for your initial classification model."
      ]
    },
    {
      "cell_type": "code",
      "metadata": {
        "id": "rzHOMx9RZ1yg",
        "colab_type": "code",
        "outputId": "444dee5f-65c7-4726-ac77-f8038a82801c",
        "colab": {
          "base_uri": "https://localhost:8080/",
          "height": 34
        }
      },
      "source": [
        "# Import the function to calculate recall score\n",
        "from sklearn.metrics import recall_score\n",
        "\n",
        "# Use the initial model to predict churn\n",
        "y_pred = model.predict(X_test)\n",
        "\n",
        "# Calculate recall score by comparing target_test with the prediction\n",
        "recall_score(y_test, y_pred)"
      ],
      "execution_count": 87,
      "outputs": [
        {
          "output_type": "execute_result",
          "data": {
            "text/plain": [
              "0.9669603524229075"
            ]
          },
          "metadata": {
            "tags": []
          },
          "execution_count": 87
        }
      ]
    },
    {
      "cell_type": "markdown",
      "metadata": {
        "id": "9rqD8B7bb57o",
        "colab_type": "text"
      },
      "source": [
        "Recall score of 0.965 means, our model is able to predict 96.5%. of all the Employee who actually left the organization."
      ]
    },
    {
      "cell_type": "markdown",
      "metadata": {
        "id": "Ngci2XakW9KE",
        "colab_type": "text"
      },
      "source": [
        "#### ROC_AUC Curve:\n",
        "While the Recall score is an important metric for measuring the accuracy of a classification algorithm, it puts too much weight on the number of False Negatives. On the other hand, Precision is concentrated on the number of False Positives.\n",
        "\n",
        "The combination of those two results in the ROC curve allows us to measure both recall and precision. \n",
        "\n",
        "An ROC curve (receiver operating characteristic curve) is a graph showing the performance of a classification model at all classification thresholds. This curve plots two parameters:\n",
        "- True Positive Rate\n",
        "- False Positive Rate\n",
        "\n",
        "An ROC curve plots TPR vs. FPR at different classification thresholds. Lowering the classification threshold classifies more items as positive, thus increasing both False Positives and True Positives.\n",
        "\n",
        "\n",
        "The following figure shows a typical ROC curve."
      ]
    },
    {
      "cell_type": "markdown",
      "metadata": {
        "id": "pUNxb5hjcmZ5",
        "colab_type": "text"
      },
      "source": [
        "\n",
        "![image.png](data:image/png;base64,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)\n",
        "\n",
        "- Vertical axis: Recall\n",
        "- Horizontal axis: 1 - Specificity(FPR)\n",
        "- Blue line: ROC\n",
        "- Green line: baseline\n",
        "- Area between blue and green: AUC"
      ]
    },
    {
      "cell_type": "markdown",
      "metadata": {
        "id": "Vr_4M4gdXtiV",
        "colab_type": "text"
      },
      "source": [
        "**AUC SCORE:**\n",
        "- AUC stands for \"Area under the ROC Curve.\" That is, AUC measures the entire two-dimensional area underneath the entire ROC curve (think integral calculus) from (0,0) to (1,1)\n",
        "\n",
        "- AUC represents the probability that a random positive (green) example is positioned to the right of a random negative (red) example.\n",
        "\n",
        "- AUC ranges in value from 0 to 1. A model whose predictions are 100% wrong has an AUC of 0.0; one whose predictions are 100% correct has an AUC of 1.0.\n",
        "\n",
        "**AUC is a very useful indicator of Model Performance for the following two reasons:**\n",
        "- AUC is scale-invariant. It measures how well predictions are ranked, rather than their absolute values.\n",
        "- AUC is classification-threshold-invariant. It measures the quality of the model's predictions irrespective of what classification threshold is chosen.\n",
        "\n",
        "\n",
        "Now that we know, What is ROC_AUC_CURVE AND AUC_SCORE, let's calculate the same for our Decision Tree Model."
      ]
    },
    {
      "cell_type": "markdown",
      "metadata": {
        "id": "QFRyXRNPfiqr",
        "colab_type": "text"
      },
      "source": [
        "#### Calculating the ROC/AUC score\n",
        "\n",
        "\n",
        "In this section, you will calculate the ROC/AUC score for the initial model using the sklearn roc_auc_score() function."
      ]
    },
    {
      "cell_type": "code",
      "metadata": {
        "id": "K6N6Hwqwb4Be",
        "colab_type": "code",
        "outputId": "d74c5418-1142-4f7f-9699-e1e73aae039d",
        "colab": {
          "base_uri": "https://localhost:8080/",
          "height": 34
        }
      },
      "source": [
        "# Import the function to calculate ROC/AUC score\n",
        "from sklearn.metrics import roc_auc_score\n",
        "\n",
        "# Use initial model to predict churn (based on features_test)\n",
        "y_pred = model.predict(X_test)\n",
        "\n",
        "# Calculate ROC/AUC score by comparing target_test with the prediction\n",
        "roc_auc_score(y_test, y_pred)"
      ],
      "execution_count": 88,
      "outputs": [
        {
          "output_type": "execute_result",
          "data": {
            "text/plain": [
              "0.9759150812079351"
            ]
          },
          "metadata": {
            "tags": []
          },
          "execution_count": 88
        }
      ]
    },
    {
      "cell_type": "markdown",
      "metadata": {
        "id": "xCfpVw14Wjhh",
        "colab_type": "text"
      },
      "source": [
        "So roc_auc Score of our Model is 0.97 which is very close to 1 and thus quite Good"
      ]
    },
    {
      "cell_type": "code",
      "metadata": {
        "id": "NOZ5bpX3f7X1",
        "colab_type": "code",
        "colab": {}
      },
      "source": [
        ""
      ],
      "execution_count": 0,
      "outputs": []
    },
    {
      "cell_type": "markdown",
      "metadata": {
        "id": "5EiSWWDpVmDT",
        "colab_type": "text"
      },
      "source": [
        "## 13. Model Evaluation and Cross Validation:"
      ]
    },
    {
      "cell_type": "markdown",
      "metadata": {
        "id": "rVk1khx8FHxe",
        "colab_type": "text"
      },
      "source": [
        "\n",
        "#### Comparison of Employee attrition models:\n",
        "\n",
        "In this section, your task is to compare the balanced and imbalanced (default) models using the pruned tree (max_depth=7)."
      ]
    },
    {
      "cell_type": "code",
      "metadata": {
        "id": "8IFq8VvYEUrp",
        "colab_type": "code",
        "outputId": "f179e400-0ab4-4ad7-c441-1bed9214d1a0",
        "colab": {
          "base_uri": "https://localhost:8080/",
          "height": 85
        }
      },
      "source": [
        "# Initialize the model with default parameter for class_weight\n",
        "model_base = DecisionTreeClassifier( random_state = 42)\n",
        "# Fit it to the training component\n",
        "model_base.fit(X_train, y_train)\n",
        "# Make prediction using test component\n",
        "prediction = model_base.predict(X_test)\n",
        "# Print the recall score\n",
        "print(\"Baseline recall score: \",recall_score(y_test,prediction))\n",
        "# Print the ROC/AUC score\n",
        "print(\"Baseline ROC AUC score: \",roc_auc_score(y_test,prediction))\n",
        "\n",
        "# Initialize the model value as balanced for class weight\n",
        "model_depth_7_b = DecisionTreeClassifier( class_weight='balanced', random_state = 42)\n",
        "# Fit it to the training component\n",
        "model_depth_7_b.fit(X_train, y_train)\n",
        "# Make prediction using test component\n",
        "prediction_b = model_depth_7_b.predict(X_test)\n",
        "# Print the recall score for the balanced model\n",
        "print(\"Balanced recall score: \",recall_score(y_test, prediction_b))\n",
        "# Print the ROC/AUC score for the balanced model\n",
        "print(\"Balanced roc_auc_score: \",roc_auc_score(y_test,prediction_b))"
      ],
      "execution_count": 89,
      "outputs": [
        {
          "output_type": "stream",
          "text": [
            "Baseline recall score:  0.9669603524229075\n",
            "Baseline ROC AUC score:  0.9759150812079351\n",
            "Balanced recall score:  0.9669603524229075\n",
            "Balanced roc_auc_score:  0.9759150812079351\n"
          ],
          "name": "stdout"
        }
      ]
    },
    {
      "cell_type": "markdown",
      "metadata": {
        "id": "7S3U5y37Zg0d",
        "colab_type": "text"
      },
      "source": [
        "As we can see the Model with Balanced wieght Outperformed the base Model in Recall Score.\n",
        "\n",
        "Now, we will learn another Important Technique to OVERCOME the problem of OverFitting: **Cross Validation Technique**."
      ]
    },
    {
      "cell_type": "code",
      "metadata": {
        "id": "vJ-QLvUBJ2Tk",
        "colab_type": "code",
        "colab": {}
      },
      "source": [
        ""
      ],
      "execution_count": 0,
      "outputs": []
    },
    {
      "cell_type": "markdown",
      "metadata": {
        "id": "KJAJXvE5KYDo",
        "colab_type": "text"
      },
      "source": [
        "### Cross Validation\n",
        "\n",
        "As you know Overfitting the dataset is a common problem in analytics. This happens when a model has learned the data too closely: it has great performances on the dataset it was trained on, but fails to generalize outside of it.\n",
        "\n",
        "While the train/test split technique you learned in Chapter 2 ensures that the model does not overfit the training set, hyperparameter tuning may result in overfitting the test component, since it consists in tuning the model to get the best prediction results on the test set. Therefore, it is recommended to validate the model on different testing sets. K-fold cross-validation allows us to achieve this:\n",
        "\n",
        "- it splits the dataset into a training set and a testing set\n",
        "- it fits the model, makes predictions and calculates a score (you can specify if you want the accuracy, precision, recall...)\n",
        "- it repeats the process k times in total\n",
        "- it outputs the average of the 10 scores.\n",
        "\n",
        "![image.png](data:image/png;base64,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)"
      ]
    },
    {
      "cell_type": "markdown",
      "metadata": {
        "id": "QQfwt1adK9UV",
        "colab_type": "text"
      },
      "source": [
        "#### Cross-validation using sklearn\n",
        "In this section, you will use Cross Validation on our dataset, and evaluate our results with the cross_val_score function."
      ]
    },
    {
      "cell_type": "code",
      "metadata": {
        "id": "WNB2Wc_oLB2a",
        "colab_type": "code",
        "outputId": "591c5695-19ae-4a6b-b6c0-5aaa555b1a5d",
        "colab": {
          "base_uri": "https://localhost:8080/",
          "height": 51
        }
      },
      "source": [
        "# Import the function for implementing cross validation\n",
        "from sklearn.model_selection import cross_val_score\n",
        "\n",
        "# Use that function to print the cross validation score for 10 folds\n",
        "print(cross_val_score(model,X_train,y_train,cv=10))"
      ],
      "execution_count": 90,
      "outputs": [
        {
          "output_type": "stream",
          "text": [
            "[0.97069272 0.97957371 0.97158082 0.96977778 0.97955556 0.98222222\n",
            " 0.98131673 0.97241993 0.97686833 0.97864769]\n"
          ],
          "name": "stdout"
        }
      ]
    },
    {
      "cell_type": "markdown",
      "metadata": {
        "id": "_r7PZtUHaAX4",
        "colab_type": "text"
      },
      "source": [
        "You can see the cross Validation Score of each Subset.\n",
        "\n",
        "You can take Mean of all the scores which can act as alternative to measure Model Performance using Accuracy on Test Set."
      ]
    },
    {
      "cell_type": "code",
      "metadata": {
        "id": "-w3Qyj9HLXqf",
        "colab_type": "code",
        "colab": {}
      },
      "source": [
        ""
      ],
      "execution_count": 0,
      "outputs": []
    },
    {
      "cell_type": "markdown",
      "metadata": {
        "id": "mZI30QfTKVY1",
        "colab_type": "text"
      },
      "source": [
        "## 14. Hyperparameter Tuning\n",
        "\n",
        "A hyperparameter is a parameter inside a function. For example, max_depth or min_samples_leaf are hyperparameters of the DecisionTreeClassifier() function. Hyperparameter tuning is the process of testing different values of hyperparameters to find the optimal ones: the one that gives the best predictions according to your objectives. In sklearn, you can use GridSearch to test different combinations of hyperparameters. Even better, you can use GridSearchCV() test different combinations and run cross-validation on them in one function!\n",
        "\n",
        "In this exercise, you are going to prepare the different values you want to test for max_depth and min_samples_leaf. You will then put these in a dictionary, because that’s what is required for GridSearchCV():\n",
        "\n",
        "the dictionary keys will be the hyperparameters names\n",
        "the dictionary values will be the attributes (the hyperparameter values) you want to test.\n",
        "\n",
        "Instead of writing all the values manually, you will use the range() function, which allows us to generate values incrementally. For example, range(1, 10, 2) will generate a list containing values ranging from 1 included to 10 not included, by increments of 2. So the final result will be [1, 3, 5, 7, 9]."
      ]
    },
    {
      "cell_type": "code",
      "metadata": {
        "id": "eJyCJf6EGVKg",
        "colab_type": "code",
        "colab": {}
      },
      "source": [
        "# Generate values for maximum depth\n",
        "depth = [i for i in range(5,21,1)]\n",
        "\n",
        "# Generate values for minimum sample size\n",
        "samples = [i for i in range(50,500,50)]\n",
        "\n",
        "# Create the dictionary with parameters to be checked\n",
        "parameters = dict(max_depth=depth, min_samples_leaf=samples)"
      ],
      "execution_count": 0,
      "outputs": []
    },
    {
      "cell_type": "markdown",
      "metadata": {
        "id": "k2wLRdvlME3A",
        "colab_type": "text"
      },
      "source": [
        "#### Implementing GridSearch\n",
        "You can now use the sklearn GridSearchCV() function to find the best combination of all of the max_depth and min_samples_leaf values you generated in the previous exercise."
      ]
    },
    {
      "cell_type": "code",
      "metadata": {
        "id": "J7DjYoARL7ed",
        "colab_type": "code",
        "outputId": "87c76dc1-04da-4723-ae3c-a82a120189af",
        "colab": {
          "base_uri": "https://localhost:8080/",
          "height": 34
        }
      },
      "source": [
        "# import the GridSearchCV function\n",
        "from sklearn.model_selection import GridSearchCV\n",
        "\n",
        "# set up parameters: done\n",
        "parameters = dict(max_depth=depth, min_samples_leaf=samples)\n",
        "\n",
        "# initialize the param_search function using the GridSearchCV function, initial model and parameters above\n",
        "param_search = GridSearchCV(model, parameters, cv=3)\n",
        "\n",
        "# fit the param_search to the training dataset\n",
        "param_search.fit(X_train, y_train)\n",
        "\n",
        "# print the best parameters found\n",
        "print(param_search.best_params_)"
      ],
      "execution_count": 92,
      "outputs": [
        {
          "output_type": "stream",
          "text": [
            "{'max_depth': 5, 'min_samples_leaf': 50}\n"
          ],
          "name": "stdout"
        }
      ]
    },
    {
      "cell_type": "markdown",
      "metadata": {
        "id": "uHOAurk7M4J4",
        "colab_type": "text"
      },
      "source": [
        " It looks like the values that give you the best score are a minimum of samples per leaf of 50 and a maximum depth of 6.\n",
        "\n",
        " #### Let's create a tuned Model Using these HyperParamters"
      ]
    },
    {
      "cell_type": "code",
      "metadata": {
        "id": "kqHv8EqdfV1r",
        "colab_type": "code",
        "colab": {
          "base_uri": "https://localhost:8080/",
          "height": 224
        },
        "outputId": "8fff4a6c-8044-4ac9-ec3d-88ff7d4a5492"
      },
      "source": [
        "X_train.head()"
      ],
      "execution_count": 96,
      "outputs": [
        {
          "output_type": "execute_result",
          "data": {
            "text/html": [
              "<div>\n",
              "<style scoped>\n",
              "    .dataframe tbody tr th:only-of-type {\n",
              "        vertical-align: middle;\n",
              "    }\n",
              "\n",
              "    .dataframe tbody tr th {\n",
              "        vertical-align: top;\n",
              "    }\n",
              "\n",
              "    .dataframe thead th {\n",
              "        text-align: right;\n",
              "    }\n",
              "</style>\n",
              "<table border=\"1\" class=\"dataframe\">\n",
              "  <thead>\n",
              "    <tr style=\"text-align: right;\">\n",
              "      <th></th>\n",
              "      <th>Satisfaction</th>\n",
              "      <th>Evaluation</th>\n",
              "      <th>number_of_projects</th>\n",
              "      <th>average_montly_hours</th>\n",
              "      <th>time_spent_company</th>\n",
              "      <th>work_accident</th>\n",
              "      <th>Promotion</th>\n",
              "      <th>Salary_cat</th>\n",
              "      <th>IT</th>\n",
              "      <th>RandD</th>\n",
              "      <th>hr</th>\n",
              "      <th>management</th>\n",
              "      <th>marketing</th>\n",
              "      <th>product_mng</th>\n",
              "      <th>sales</th>\n",
              "      <th>support</th>\n",
              "      <th>technical</th>\n",
              "    </tr>\n",
              "  </thead>\n",
              "  <tbody>\n",
              "    <tr>\n",
              "      <th>7895</th>\n",
              "      <td>7.0</td>\n",
              "      <td>4.7</td>\n",
              "      <td>2</td>\n",
              "      <td>238</td>\n",
              "      <td>3</td>\n",
              "      <td>0</td>\n",
              "      <td>0</td>\n",
              "      <td>0</td>\n",
              "      <td>0</td>\n",
              "      <td>0</td>\n",
              "      <td>0</td>\n",
              "      <td>0</td>\n",
              "      <td>0</td>\n",
              "      <td>0</td>\n",
              "      <td>0</td>\n",
              "      <td>0</td>\n",
              "      <td>1</td>\n",
              "    </tr>\n",
              "    <tr>\n",
              "      <th>8828</th>\n",
              "      <td>9.3</td>\n",
              "      <td>5.3</td>\n",
              "      <td>5</td>\n",
              "      <td>204</td>\n",
              "      <td>2</td>\n",
              "      <td>0</td>\n",
              "      <td>0</td>\n",
              "      <td>1</td>\n",
              "      <td>0</td>\n",
              "      <td>0</td>\n",
              "      <td>0</td>\n",
              "      <td>0</td>\n",
              "      <td>0</td>\n",
              "      <td>0</td>\n",
              "      <td>0</td>\n",
              "      <td>1</td>\n",
              "      <td>0</td>\n",
              "    </tr>\n",
              "    <tr>\n",
              "      <th>3295</th>\n",
              "      <td>7.4</td>\n",
              "      <td>8.6</td>\n",
              "      <td>3</td>\n",
              "      <td>186</td>\n",
              "      <td>3</td>\n",
              "      <td>1</td>\n",
              "      <td>0</td>\n",
              "      <td>2</td>\n",
              "      <td>0</td>\n",
              "      <td>0</td>\n",
              "      <td>0</td>\n",
              "      <td>0</td>\n",
              "      <td>0</td>\n",
              "      <td>0</td>\n",
              "      <td>1</td>\n",
              "      <td>0</td>\n",
              "      <td>0</td>\n",
              "    </tr>\n",
              "    <tr>\n",
              "      <th>12332</th>\n",
              "      <td>0.9</td>\n",
              "      <td>9.8</td>\n",
              "      <td>6</td>\n",
              "      <td>271</td>\n",
              "      <td>4</td>\n",
              "      <td>0</td>\n",
              "      <td>0</td>\n",
              "      <td>0</td>\n",
              "      <td>0</td>\n",
              "      <td>0</td>\n",
              "      <td>0</td>\n",
              "      <td>0</td>\n",
              "      <td>0</td>\n",
              "      <td>0</td>\n",
              "      <td>1</td>\n",
              "      <td>0</td>\n",
              "      <td>0</td>\n",
              "    </tr>\n",
              "    <tr>\n",
              "      <th>5660</th>\n",
              "      <td>7.5</td>\n",
              "      <td>5.2</td>\n",
              "      <td>3</td>\n",
              "      <td>260</td>\n",
              "      <td>3</td>\n",
              "      <td>1</td>\n",
              "      <td>0</td>\n",
              "      <td>0</td>\n",
              "      <td>0</td>\n",
              "      <td>0</td>\n",
              "      <td>0</td>\n",
              "      <td>0</td>\n",
              "      <td>0</td>\n",
              "      <td>0</td>\n",
              "      <td>1</td>\n",
              "      <td>0</td>\n",
              "      <td>0</td>\n",
              "    </tr>\n",
              "  </tbody>\n",
              "</table>\n",
              "</div>"
            ],
            "text/plain": [
              "       Satisfaction  Evaluation  number_of_projects  ...  sales  support  technical\n",
              "7895            7.0         4.7                   2  ...      0        0          1\n",
              "8828            9.3         5.3                   5  ...      0        1          0\n",
              "3295            7.4         8.6                   3  ...      1        0          0\n",
              "12332           0.9         9.8                   6  ...      1        0          0\n",
              "5660            7.5         5.2                   3  ...      1        0          0\n",
              "\n",
              "[5 rows x 17 columns]"
            ]
          },
          "metadata": {
            "tags": []
          },
          "execution_count": 96
        }
      ]
    },
    {
      "cell_type": "code",
      "metadata": {
        "id": "epDrpImxcOs5",
        "colab_type": "code",
        "colab": {}
      },
      "source": [
        "decision_tree_tuned = DecisionTreeClassifier(**param_search.best_params_ , random_state = 42)"
      ],
      "execution_count": 0,
      "outputs": []
    },
    {
      "cell_type": "code",
      "metadata": {
        "id": "mZKtprYMcOqS",
        "colab_type": "code",
        "colab": {
          "base_uri": "https://localhost:8080/",
          "height": 34
        },
        "outputId": "06a395be-e44e-44ee-9943-99c800ee780d"
      },
      "source": [
        "decision_tree_tuned.fit(X_train, y_train)\n",
        "\n",
        "# Make prediction based on selected list of features from test set\n",
        "prediction_best = decision_tree_tuned.predict(X_test)\n",
        "\n",
        "# Print the general accuracy of the model_best\n",
        "print(\"Accuracy Score:\",decision_tree_tuned.score(X_test, y_test) * 100)"
      ],
      "execution_count": 98,
      "outputs": [
        {
          "output_type": "stream",
          "text": [
            "Accuracy Score: 96.53333333333333\n"
          ],
          "name": "stdout"
        }
      ]
    },
    {
      "cell_type": "markdown",
      "metadata": {
        "id": "SmGNQXYxV9EM",
        "colab_type": "text"
      },
      "source": [
        "## 16. Feature Importance and Selection"
      ]
    },
    {
      "cell_type": "markdown",
      "metadata": {
        "id": "5X6LWfQKNIO7",
        "colab_type": "text"
      },
      "source": [
        "#### Important features for predicting attrition\n",
        "- Importance is calculated as relative decrease in Gini due to the selected feature.\n",
        "- Importances are scaled to sum up to 100%.\n",
        "- Higher percentage, higher importance."
      ]
    },
    {
      "cell_type": "code",
      "metadata": {
        "id": "IQL4jpheMqU6",
        "colab_type": "code",
        "outputId": "4e558c9f-6892-4cda-e849-a587c58d562c",
        "colab": {
          "base_uri": "https://localhost:8080/",
          "height": 507
        }
      },
      "source": [
        "# Calculate feature importances\n",
        "feature_importances = model.feature_importances_\n",
        "\n",
        "# Create a list of features: done\n",
        "feature_list = list(X)\n",
        "\n",
        "# Save the results inside a DataFrame using feature_list as an index\n",
        "relative_importances = pd.DataFrame(index=feature_list, data=feature_importances, columns=[\"importance\"])\n",
        "\n",
        "# Sort values to learn most important features\n",
        "relative_importances = relative_importances.sort_values(by=\"importance\", ascending=False)\n",
        "\n",
        "plt.figure(figsize = (22,8))\n",
        "sns.barplot(x=relative_importances.index , y = 'importance' ,data  = relative_importances)\n",
        "plt.show()"
      ],
      "execution_count": 42,
      "outputs": [
        {
          "output_type": "display_data",
          "data": {
            "image/png": "[encoded data removed]",
            "text/plain": [
              "<Figure size 1584x576 with 1 Axes>"
            ]
          },
          "metadata": {
            "tags": []
          }
        }
      ]
    },
    {
      "cell_type": "markdown",
      "metadata": {
        "id": "wIOvQRynQZ5q",
        "colab_type": "text"
      },
      "source": [
        "It seems that satisfaction is by far the most impactful feature on the decision to leave the company or not."
      ]
    },
    {
      "cell_type": "code",
      "metadata": {
        "id": "HN86s9y8QA2P",
        "colab_type": "code",
        "outputId": "1a7c0ade-7dbe-4c0e-d14b-a43b1508f00f",
        "colab": {
          "base_uri": "https://localhost:8080/",
          "height": 204
        }
      },
      "source": [
        "relative_importances.head()"
      ],
      "execution_count": 43,
      "outputs": [
        {
          "output_type": "execute_result",
          "data": {
            "text/html": [
              "<div>\n",
              "<style scoped>\n",
              "    .dataframe tbody tr th:only-of-type {\n",
              "        vertical-align: middle;\n",
              "    }\n",
              "\n",
              "    .dataframe tbody tr th {\n",
              "        vertical-align: top;\n",
              "    }\n",
              "\n",
              "    .dataframe thead th {\n",
              "        text-align: right;\n",
              "    }\n",
              "</style>\n",
              "<table border=\"1\" class=\"dataframe\">\n",
              "  <thead>\n",
              "    <tr style=\"text-align: right;\">\n",
              "      <th></th>\n",
              "      <th>importance</th>\n",
              "    </tr>\n",
              "  </thead>\n",
              "  <tbody>\n",
              "    <tr>\n",
              "      <th>Satisfaction</th>\n",
              "      <td>0.492103</td>\n",
              "    </tr>\n",
              "    <tr>\n",
              "      <th>Evaluation</th>\n",
              "      <td>0.140760</td>\n",
              "    </tr>\n",
              "    <tr>\n",
              "      <th>time_spent_company</th>\n",
              "      <td>0.140578</td>\n",
              "    </tr>\n",
              "    <tr>\n",
              "      <th>number_of_projects</th>\n",
              "      <td>0.115217</td>\n",
              "    </tr>\n",
              "    <tr>\n",
              "      <th>average_montly_hours</th>\n",
              "      <td>0.088373</td>\n",
              "    </tr>\n",
              "  </tbody>\n",
              "</table>\n",
              "</div>"
            ],
            "text/plain": [
              "                      importance\n",
              "Satisfaction            0.492103\n",
              "Evaluation              0.140760\n",
              "time_spent_company      0.140578\n",
              "number_of_projects      0.115217\n",
              "average_montly_hours    0.088373"
            ]
          },
          "metadata": {
            "tags": []
          },
          "execution_count": 43
        }
      ]
    },
    {
      "cell_type": "markdown",
      "metadata": {
        "id": "Dp-M8bj4RSGz",
        "colab_type": "text"
      },
      "source": [
        "### Selecting important features:\n",
        "\n",
        "In this exercise, your task is to select only the most important features that will be used by the final model. Remember, that the relative importances are saved in the column importance of the DataFrame called relative_importances."
      ]
    },
    {
      "cell_type": "code",
      "metadata": {
        "id": "FgXdyPyuQ5kg",
        "colab_type": "code",
        "outputId": "f8160b7b-340d-4cf4-9270-b20ab01a976c",
        "colab": {
          "base_uri": "https://localhost:8080/",
          "height": 68
        }
      },
      "source": [
        "# select only features with relative importance higher than 1%\n",
        "selected_features = relative_importances[relative_importances.importance>0.01]\n",
        "\n",
        "# create a list from those features: done\n",
        "selected_list = selected_features.index\n",
        "\n",
        "# transform both features_train and features_test components to include only selected features\n",
        "X_train_selected = X_train[selected_list]\n",
        "X_test_selected = X_test[selected_list]\n",
        "\n",
        "selected_list"
      ],
      "execution_count": 44,
      "outputs": [
        {
          "output_type": "execute_result",
          "data": {
            "text/plain": [
              "Index(['Satisfaction', 'Evaluation', 'time_spent_company',\n",
              "       'number_of_projects', 'average_montly_hours'],\n",
              "      dtype='object')"
            ]
          },
          "metadata": {
            "tags": []
          },
          "execution_count": 44
        }
      ]
    },
    {
      "cell_type": "markdown",
      "metadata": {
        "id": "nit0mfe6U4_2",
        "colab_type": "text"
      },
      "source": [
        "As you can see, only 5 features have been retained out of the 17 original ones: ['satisfaction', 'evaluation', 'number_of_projects', 'average_montly_hours', 'time_spend_company']. You’ve made sure to keep only these in your training and testing sets."
      ]
    },
    {
      "cell_type": "markdown",
      "metadata": {
        "id": "yddcV8VfVIjB",
        "colab_type": "text"
      },
      "source": [
        "## 16. Final Model:\n",
        "\n",
        "#### Developing and testing the final model with Limited number of Variables.\n",
        "you found out that the following parameters allow you to get better model:\n",
        "\n",
        "- max_depth = 8,\n",
        "- min_samples_leaf = 150,\n",
        "- class_weight = \"balanced\"\n",
        "\n",
        "In this section, you discovered that some of the features have a negligible impact. You realized that you could get accurate predictions using just a small number of selected, impactful features and you updated your training and testing set accordingly, creating the variables features_train_selected and features_test_selected.\n",
        "\n",
        "With all this information at your disposal, you're now going to develop the best model for predicting employee turnover and evaluate it using the appropriate metrics."
      ]
    },
    {
      "cell_type": "code",
      "metadata": {
        "id": "N8_bP-hWRZ-U",
        "colab_type": "code",
        "outputId": "f6f30188-78d5-407a-f24f-daebf558f6c2",
        "colab": {
          "base_uri": "https://localhost:8080/",
          "height": 85
        }
      },
      "source": [
        "# Initialize the best model using parameters provided in description\n",
        "model_best = DecisionTreeClassifier(max_depth = 8, min_samples_leaf = 150, class_weight = \"balanced\", random_state=42)\n",
        "\n",
        "# Fit the model using only selected features from training set: done\n",
        "model_best.fit(X_train_selected, y_train)\n",
        "\n",
        "# Make prediction based on selected list of features from test set\n",
        "prediction_best = model_best.predict(X_test_selected)\n",
        "\n",
        "# Print the general accuracy of the model_best\n",
        "print(\"Accuracy Score:\",model_best.score(X_test_selected, y_test) * 100)\n",
        "\n",
        "# Print the precision score of the model predictions\n",
        "print(\"Precision Score:\",precision_score(y_test, prediction_best) * 100)\n",
        "\n",
        "# Print the recall score of the model predictions\n",
        "print(\"ReCall Score:\",recall_score(y_test, prediction_best) * 100)\n",
        "\n",
        "# Print the ROC/AUC score of the model predictions\n",
        "print(\"ROC_AUC SCORE:\",roc_auc_score(y_test, prediction_best) * 100)"
      ],
      "execution_count": 45,
      "outputs": [
        {
          "output_type": "stream",
          "text": [
            "Accuracy Score: 95.33333333333334\n",
            "Precision Score: 89.73821989528797\n",
            "ReCall Score: 91.7558886509636\n",
            "ROC_AUC SCORE: 94.13788750729998\n"
          ],
          "name": "stdout"
        }
      ]
    },
    {
      "cell_type": "markdown",
      "metadata": {
        "id": "8OcVvg60b0rw",
        "colab_type": "text"
      },
      "source": [
        "With just 5 features we are getting accuracy score of 95.25 as well as very Negligible decrease in other Metrics.\n",
        "\n",
        "So we can pick this model keeping Complexity and Performace in Mind."
      ]
    },
    {
      "cell_type": "markdown",
      "metadata": {
        "id": "7b_W2VaKbxW7",
        "colab_type": "text"
      },
      "source": [
        "### Conclusion:\n"
      ]
    }
  ]
}